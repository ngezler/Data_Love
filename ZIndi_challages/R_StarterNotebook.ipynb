{
  "nbformat": 4,
  "nbformat_minor": 0,
  "metadata": {
    "colab": {
      "name": "AXA-R-StarterNotebook .ipynb",
      "provenance": [],
      "collapsed_sections": []
    },
    "kernelspec": {
      "name": "ir",
      "display_name": "R"
    }
  },
  "cells": [
    {
      "cell_type": "markdown",
      "metadata": {
        "id": "ntJvNijbr3MU"
      },
      "source": [
        "# AutoInland Vehicle Insurance Claim Challenge StarterNotebook - R\r\n",
        "\r\n",
        "This is a simple starter notebook to get started with the AutoInland Vehicle Insurance Claim Challenge on Zindi.\r\n",
        "\r\n",
        "This notebook covers:\r\n",
        "- Loading the data\r\n",
        "- Simple EDA and an example of feature enginnering\r\n",
        "- Data preprocessing and data wrangling\r\n",
        "- Creating a simple model\r\n",
        "- Making a submission\r\n",
        "- Some tips for improving your score"
      ]
    },
    {
      "cell_type": "code",
      "metadata": {
        "id": "Z60PpIfIeF4Z",
        "colab": {
          "base_uri": "https://localhost:8080/",
          "height": 34
        },
        "outputId": "11654868-ad4f-4414-8896-092740d538c3"
      },
      "source": [
        "#Check version of R\r\n",
        "R.version.string"
      ],
      "execution_count": 1,
      "outputs": [
        {
          "output_type": "display_data",
          "data": {
            "text/plain": [
              "[1] \"R version 4.0.4 (2021-02-15)\""
            ],
            "text/latex": "'R version 4.0.4 (2021-02-15)'",
            "text/markdown": "'R version 4.0.4 (2021-02-15)'",
            "text/html": [
              "'R version 4.0.4 (2021-02-15)'"
            ]
          },
          "metadata": {
            "tags": []
          }
        }
      ]
    },
    {
      "cell_type": "markdown",
      "metadata": {
        "id": "IqI5iox-09ty"
      },
      "source": [
        "### Install packages"
      ]
    },
    {
      "cell_type": "code",
      "metadata": {
        "colab": {
          "base_uri": "https://localhost:8080/"
        },
        "id": "hOdxGcvmgIhf",
        "outputId": "283cebef-46be-4e25-d2b0-7ae5c4b8fc89"
      },
      "source": [
        "install.packages(\"fastDummies\")\r\n",
        "install.packages('naniar')\r\n",
        "install.packages(\"caret\")\r\n",
        "install.packages(\"e1071\")\r\n",
        "install.packages('devtools')\r\n",
        "library(devtools)\r\n",
        "devtools::install_github('catboost/catboost', subdir = 'catboost/R-package')"
      ],
      "execution_count": 2,
      "outputs": [
        {
          "output_type": "stream",
          "text": [
            "Installing package into ‘/usr/local/lib/R/site-library’\n",
            "(as ‘lib’ is unspecified)\n",
            "\n",
            "also installing the dependency ‘data.table’\n",
            "\n",
            "\n",
            "Installing package into ‘/usr/local/lib/R/site-library’\n",
            "(as ‘lib’ is unspecified)\n",
            "\n",
            "also installing the dependencies ‘gridExtra’, ‘plyr’, ‘visdat’, ‘viridis’, ‘UpSetR’\n",
            "\n",
            "\n",
            "Installing package into ‘/usr/local/lib/R/site-library’\n",
            "(as ‘lib’ is unspecified)\n",
            "\n",
            "also installing the dependencies ‘numDeriv’, ‘SQUAREM’, ‘lava’, ‘prodlim’, ‘iterators’, ‘gower’, ‘ipred’, ‘timeDate’, ‘foreach’, ‘ModelMetrics’, ‘reshape2’, ‘recipes’, ‘pROC’\n",
            "\n",
            "\n",
            "Installing package into ‘/usr/local/lib/R/site-library’\n",
            "(as ‘lib’ is unspecified)\n",
            "\n",
            "Installing package into ‘/usr/local/lib/R/site-library’\n",
            "(as ‘lib’ is unspecified)\n",
            "\n",
            "Loading required package: usethis\n",
            "\n",
            "Downloading GitHub repo catboost/catboost@HEAD\n",
            "\n"
          ],
          "name": "stderr"
        },
        {
          "output_type": "stream",
          "text": [
            "\n",
            "\u001b[32m✔\u001b[39m  \u001b[90mchecking for file ‘/tmp/RtmpoH31kX/remotes3a107fdfae/catboost-catboost-8589fd4/catboost/R-package/DESCRIPTION’\u001b[39m\u001b[36m\u001b[39m\n",
            "\u001b[90m─\u001b[39m\u001b[90m  \u001b[39m\u001b[90mpreparing ‘catboost’:\u001b[39m\u001b[36m\u001b[39m\n",
            "\u001b[32m✔\u001b[39m  \u001b[90mchecking DESCRIPTION meta-information\u001b[39m\u001b[36m\u001b[39m\n",
            "\u001b[90m─\u001b[39m\u001b[90m  \u001b[39m\u001b[90mcleaning src\u001b[39m\u001b[36m\u001b[39m\n",
            "\u001b[90m─\u001b[39m\u001b[90m  \u001b[39m\u001b[90mchecking for LF line-endings in source and make files and shell scripts\u001b[39m\u001b[36m\u001b[39m\n",
            "\u001b[90m─\u001b[39m\u001b[90m  \u001b[39m\u001b[90mchecking for empty or unneeded directories\u001b[39m\u001b[36m\u001b[39m\n",
            "\u001b[90m─\u001b[39m\u001b[90m  \u001b[39m\u001b[90mbuilding ‘catboost_0.24.4.tar.gz’\u001b[39m\u001b[36m\u001b[39m\n",
            "   \n"
          ],
          "name": "stdout"
        },
        {
          "output_type": "stream",
          "text": [
            "Installing package into ‘/usr/local/lib/R/site-library’\n",
            "(as ‘lib’ is unspecified)\n",
            "\n"
          ],
          "name": "stderr"
        }
      ]
    },
    {
      "cell_type": "markdown",
      "metadata": {
        "id": "IPgNPkOEr-ay"
      },
      "source": [
        "### Importing libraries"
      ]
    },
    {
      "cell_type": "code",
      "metadata": {
        "colab": {
          "base_uri": "https://localhost:8080/"
        },
        "id": "G9DAioHYN9EY",
        "outputId": "2de4ac1d-f515-493c-deb6-bfd46059b29f"
      },
      "source": [
        "# Import libraries\r\n",
        "library(tidyverse)\r\n",
        "library(fastDummies)\r\n",
        "library(naniar)\r\n",
        "library(catboost)\r\n",
        "library(caret)\r\n",
        "library(e1071)"
      ],
      "execution_count": 3,
      "outputs": [
        {
          "output_type": "stream",
          "text": [
            "Warning message in system(\"timedatectl\", intern = TRUE):\n",
            "“running command 'timedatectl' had status 1”\n",
            "── \u001b[1mAttaching packages\u001b[22m ─────────────────────────────────────── tidyverse 1.3.0 ──\n",
            "\n",
            "\u001b[32m✔\u001b[39m \u001b[34mggplot2\u001b[39m 3.3.3     \u001b[32m✔\u001b[39m \u001b[34mpurrr  \u001b[39m 0.3.4\n",
            "\u001b[32m✔\u001b[39m \u001b[34mtibble \u001b[39m 3.1.0     \u001b[32m✔\u001b[39m \u001b[34mdplyr  \u001b[39m 1.0.4\n",
            "\u001b[32m✔\u001b[39m \u001b[34mtidyr  \u001b[39m 1.1.3     \u001b[32m✔\u001b[39m \u001b[34mstringr\u001b[39m 1.4.0\n",
            "\u001b[32m✔\u001b[39m \u001b[34mreadr  \u001b[39m 1.4.0     \u001b[32m✔\u001b[39m \u001b[34mforcats\u001b[39m 0.5.1\n",
            "\n",
            "── \u001b[1mConflicts\u001b[22m ────────────────────────────────────────── tidyverse_conflicts() ──\n",
            "\u001b[31m✖\u001b[39m \u001b[34mdplyr\u001b[39m::\u001b[32mfilter()\u001b[39m masks \u001b[34mstats\u001b[39m::filter()\n",
            "\u001b[31m✖\u001b[39m \u001b[34mdplyr\u001b[39m::\u001b[32mlag()\u001b[39m    masks \u001b[34mstats\u001b[39m::lag()\n",
            "\n",
            "Loading required package: lattice\n",
            "\n",
            "\n",
            "Attaching package: ‘caret’\n",
            "\n",
            "\n",
            "The following object is masked from ‘package:purrr’:\n",
            "\n",
            "    lift\n",
            "\n",
            "\n"
          ],
          "name": "stderr"
        }
      ]
    },
    {
      "cell_type": "markdown",
      "metadata": {
        "id": "PN5PrWmnsEbb"
      },
      "source": [
        "### Read files"
      ]
    },
    {
      "cell_type": "code",
      "metadata": {
        "id": "SHAbnzi9NI_T"
      },
      "source": [
        "# Load files\r\n",
        "train = read.csv('/content/Train.csv', na.strings=c(\"\",\"NA\"))\r\n",
        "test = read.csv('/content/Test.csv', na.strings=c(\"\",\"NA\"))\r\n",
        "sample = read.csv('/content/SampleSubmission.csv')"
      ],
      "execution_count": 4,
      "outputs": []
    },
    {
      "cell_type": "markdown",
      "metadata": {
        "id": "tFxjjgsMsJD1"
      },
      "source": [
        "### Some basic EDA"
      ]
    },
    {
      "cell_type": "code",
      "metadata": {
        "colab": {
          "base_uri": "https://localhost:8080/",
          "height": 291
        },
        "id": "7JebboqeNI8-",
        "outputId": "ea1fa6d3-c255-4c9d-f952-fb1e5b49bed0"
      },
      "source": [
        "# Preview first five rows of the train set\r\n",
        "head(train)"
      ],
      "execution_count": 5,
      "outputs": [
        {
          "output_type": "display_data",
          "data": {
            "text/plain": [
              "  ID      Policy.Start.Date Policy.End.Date Gender Age First.Transaction.Date\n",
              "1 0040R73 2010-05-14        2011-05-13      Male   30  2010-05-14            \n",
              "2 0046BNK 2010-11-29        2011-11-28      Female 79  2010-11-29            \n",
              "3 005QMC3 2010-03-21        2011-03-20      Male   43  2010-03-21            \n",
              "4 0079OHW 2010-08-21        2011-08-20      Male    2  2010-08-21            \n",
              "5 00BRP63 2010-08-29        2010-12-31      Entity 20  2010-08-29            \n",
              "6 00D3EF6 2010-10-21        2011-10-20      Male   37  2010-10-21            \n",
              "  No_Pol Car_Category Subject_Car_Colour Subject_Car_Make LGA_Name State\n",
              "1 1      Saloon       Black              TOYOTA           NA       NA   \n",
              "2 1      JEEP         Grey               TOYOTA           NA       NA   \n",
              "3 1      Saloon       Red                TOYOTA           NA       NA   \n",
              "4 1      NA           NA                 NA               NA       NA   \n",
              "5 3      NA           NA                 NA               Lagos    Lagos\n",
              "6 2      NA           NA                 NA               NA       NA   \n",
              "  ProductName target\n",
              "1 Car Classic 0     \n",
              "2 Car Classic 1     \n",
              "3 Car Classic 0     \n",
              "4 CarSafe     0     \n",
              "5 Muuve       1     \n",
              "6 Car Classic 0     "
            ],
            "text/latex": "A data.frame: 6 × 14\n\\begin{tabular}{r|llllllllllllll}\n  & ID & Policy.Start.Date & Policy.End.Date & Gender & Age & First.Transaction.Date & No\\_Pol & Car\\_Category & Subject\\_Car\\_Colour & Subject\\_Car\\_Make & LGA\\_Name & State & ProductName & target\\\\\n  & <chr> & <chr> & <chr> & <chr> & <int> & <chr> & <int> & <chr> & <chr> & <chr> & <chr> & <chr> & <chr> & <int>\\\\\n\\hline\n\t1 & 0040R73 & 2010-05-14 & 2011-05-13 & Male   & 30 & 2010-05-14 & 1 & Saloon & Black & TOYOTA & NA    & NA    & Car Classic & 0\\\\\n\t2 & 0046BNK & 2010-11-29 & 2011-11-28 & Female & 79 & 2010-11-29 & 1 & JEEP   & Grey  & TOYOTA & NA    & NA    & Car Classic & 1\\\\\n\t3 & 005QMC3 & 2010-03-21 & 2011-03-20 & Male   & 43 & 2010-03-21 & 1 & Saloon & Red   & TOYOTA & NA    & NA    & Car Classic & 0\\\\\n\t4 & 0079OHW & 2010-08-21 & 2011-08-20 & Male   &  2 & 2010-08-21 & 1 & NA     & NA    & NA     & NA    & NA    & CarSafe     & 0\\\\\n\t5 & 00BRP63 & 2010-08-29 & 2010-12-31 & Entity & 20 & 2010-08-29 & 3 & NA     & NA    & NA     & Lagos & Lagos & Muuve       & 1\\\\\n\t6 & 00D3EF6 & 2010-10-21 & 2011-10-20 & Male   & 37 & 2010-10-21 & 2 & NA     & NA    & NA     & NA    & NA    & Car Classic & 0\\\\\n\\end{tabular}\n",
            "text/markdown": "\nA data.frame: 6 × 14\n\n| <!--/--> | ID &lt;chr&gt; | Policy.Start.Date &lt;chr&gt; | Policy.End.Date &lt;chr&gt; | Gender &lt;chr&gt; | Age &lt;int&gt; | First.Transaction.Date &lt;chr&gt; | No_Pol &lt;int&gt; | Car_Category &lt;chr&gt; | Subject_Car_Colour &lt;chr&gt; | Subject_Car_Make &lt;chr&gt; | LGA_Name &lt;chr&gt; | State &lt;chr&gt; | ProductName &lt;chr&gt; | target &lt;int&gt; |\n|---|---|---|---|---|---|---|---|---|---|---|---|---|---|---|\n| 1 | 0040R73 | 2010-05-14 | 2011-05-13 | Male   | 30 | 2010-05-14 | 1 | Saloon | Black | TOYOTA | NA    | NA    | Car Classic | 0 |\n| 2 | 0046BNK | 2010-11-29 | 2011-11-28 | Female | 79 | 2010-11-29 | 1 | JEEP   | Grey  | TOYOTA | NA    | NA    | Car Classic | 1 |\n| 3 | 005QMC3 | 2010-03-21 | 2011-03-20 | Male   | 43 | 2010-03-21 | 1 | Saloon | Red   | TOYOTA | NA    | NA    | Car Classic | 0 |\n| 4 | 0079OHW | 2010-08-21 | 2011-08-20 | Male   |  2 | 2010-08-21 | 1 | NA     | NA    | NA     | NA    | NA    | CarSafe     | 0 |\n| 5 | 00BRP63 | 2010-08-29 | 2010-12-31 | Entity | 20 | 2010-08-29 | 3 | NA     | NA    | NA     | Lagos | Lagos | Muuve       | 1 |\n| 6 | 00D3EF6 | 2010-10-21 | 2011-10-20 | Male   | 37 | 2010-10-21 | 2 | NA     | NA    | NA     | NA    | NA    | Car Classic | 0 |\n\n",
            "text/html": [
              "<table class=\"dataframe\">\n",
              "<caption>A data.frame: 6 × 14</caption>\n",
              "<thead>\n",
              "\t<tr><th></th><th scope=col>ID</th><th scope=col>Policy.Start.Date</th><th scope=col>Policy.End.Date</th><th scope=col>Gender</th><th scope=col>Age</th><th scope=col>First.Transaction.Date</th><th scope=col>No_Pol</th><th scope=col>Car_Category</th><th scope=col>Subject_Car_Colour</th><th scope=col>Subject_Car_Make</th><th scope=col>LGA_Name</th><th scope=col>State</th><th scope=col>ProductName</th><th scope=col>target</th></tr>\n",
              "\t<tr><th></th><th scope=col>&lt;chr&gt;</th><th scope=col>&lt;chr&gt;</th><th scope=col>&lt;chr&gt;</th><th scope=col>&lt;chr&gt;</th><th scope=col>&lt;int&gt;</th><th scope=col>&lt;chr&gt;</th><th scope=col>&lt;int&gt;</th><th scope=col>&lt;chr&gt;</th><th scope=col>&lt;chr&gt;</th><th scope=col>&lt;chr&gt;</th><th scope=col>&lt;chr&gt;</th><th scope=col>&lt;chr&gt;</th><th scope=col>&lt;chr&gt;</th><th scope=col>&lt;int&gt;</th></tr>\n",
              "</thead>\n",
              "<tbody>\n",
              "\t<tr><th scope=row>1</th><td>0040R73</td><td>2010-05-14</td><td>2011-05-13</td><td>Male  </td><td>30</td><td>2010-05-14</td><td>1</td><td>Saloon</td><td>Black</td><td>TOYOTA</td><td>NA   </td><td>NA   </td><td>Car Classic</td><td>0</td></tr>\n",
              "\t<tr><th scope=row>2</th><td>0046BNK</td><td>2010-11-29</td><td>2011-11-28</td><td>Female</td><td>79</td><td>2010-11-29</td><td>1</td><td>JEEP  </td><td>Grey </td><td>TOYOTA</td><td>NA   </td><td>NA   </td><td>Car Classic</td><td>1</td></tr>\n",
              "\t<tr><th scope=row>3</th><td>005QMC3</td><td>2010-03-21</td><td>2011-03-20</td><td>Male  </td><td>43</td><td>2010-03-21</td><td>1</td><td>Saloon</td><td>Red  </td><td>TOYOTA</td><td>NA   </td><td>NA   </td><td>Car Classic</td><td>0</td></tr>\n",
              "\t<tr><th scope=row>4</th><td>0079OHW</td><td>2010-08-21</td><td>2011-08-20</td><td>Male  </td><td> 2</td><td>2010-08-21</td><td>1</td><td>NA    </td><td>NA   </td><td>NA    </td><td>NA   </td><td>NA   </td><td>CarSafe    </td><td>0</td></tr>\n",
              "\t<tr><th scope=row>5</th><td>00BRP63</td><td>2010-08-29</td><td>2010-12-31</td><td>Entity</td><td>20</td><td>2010-08-29</td><td>3</td><td>NA    </td><td>NA   </td><td>NA    </td><td>Lagos</td><td>Lagos</td><td>Muuve      </td><td>1</td></tr>\n",
              "\t<tr><th scope=row>6</th><td>00D3EF6</td><td>2010-10-21</td><td>2011-10-20</td><td>Male  </td><td>37</td><td>2010-10-21</td><td>2</td><td>NA    </td><td>NA   </td><td>NA    </td><td>NA   </td><td>NA   </td><td>Car Classic</td><td>0</td></tr>\n",
              "</tbody>\n",
              "</table>\n"
            ]
          },
          "metadata": {
            "tags": []
          }
        }
      ]
    },
    {
      "cell_type": "code",
      "metadata": {
        "colab": {
          "base_uri": "https://localhost:8080/",
          "height": 338
        },
        "id": "i4_xuIj_NI6q",
        "outputId": "afc34b55-8a7c-438d-9f4b-1a55647f8bd6"
      },
      "source": [
        "# Preview first five rows of the test set\r\n",
        "head(test)"
      ],
      "execution_count": 6,
      "outputs": [
        {
          "output_type": "display_data",
          "data": {
            "text/plain": [
              "  ID      Policy.Start.Date Policy.End.Date Gender    Age\n",
              "1 009D84L 2010-04-24        2011-03-27      NO GENDER  25\n",
              "2 01DO2EQ 2010-01-01        2010-12-31      NA        120\n",
              "3 01QM0NU 2010-10-23        2011-10-22      Female     46\n",
              "4 024NJLZ 2010-10-14        2011-10-13      Male       32\n",
              "5 02BYET3 2010-09-16        2010-12-31      NA        120\n",
              "6 02NOVWQ 2010-08-29        2011-08-28      Female     45\n",
              "  First.Transaction.Date No_Pol Car_Category Subject_Car_Colour\n",
              "1 2010-04-24             1      NA           As Attached       \n",
              "2 2010-01-01             4      NA           As Attached       \n",
              "3 2010-10-23             1      NA           NA                \n",
              "4 2010-10-14             1      NA           NA                \n",
              "5 2010-09-16             4      NA           NA                \n",
              "6 2010-08-29             2      Saloon       Black             \n",
              "  Subject_Car_Make LGA_Name        State           ProductName\n",
              "1 Iveco            Victoria Island Lagos           CVTP       \n",
              "2 TOYOTA           Victoria Island Lagos           Muuve      \n",
              "3 Ford             Abuja Municipal Abuja-Municipal Car Classic\n",
              "4 NA               Kosofe          Benue           Car Classic\n",
              "5 TOYOTA           Victoria Island Lagos           Muuve      \n",
              "6 Honda            Wuse 11         Abuja           Car Classic"
            ],
            "text/latex": "A data.frame: 6 × 13\n\\begin{tabular}{r|lllllllllllll}\n  & ID & Policy.Start.Date & Policy.End.Date & Gender & Age & First.Transaction.Date & No\\_Pol & Car\\_Category & Subject\\_Car\\_Colour & Subject\\_Car\\_Make & LGA\\_Name & State & ProductName\\\\\n  & <chr> & <chr> & <chr> & <chr> & <int> & <chr> & <int> & <chr> & <chr> & <chr> & <chr> & <chr> & <chr>\\\\\n\\hline\n\t1 & 009D84L & 2010-04-24 & 2011-03-27 & NO GENDER &  25 & 2010-04-24 & 1 & NA     & As Attached & Iveco  & Victoria Island & Lagos           & CVTP       \\\\\n\t2 & 01DO2EQ & 2010-01-01 & 2010-12-31 & NA        & 120 & 2010-01-01 & 4 & NA     & As Attached & TOYOTA & Victoria Island & Lagos           & Muuve      \\\\\n\t3 & 01QM0NU & 2010-10-23 & 2011-10-22 & Female    &  46 & 2010-10-23 & 1 & NA     & NA          & Ford   & Abuja Municipal & Abuja-Municipal & Car Classic\\\\\n\t4 & 024NJLZ & 2010-10-14 & 2011-10-13 & Male      &  32 & 2010-10-14 & 1 & NA     & NA          & NA     & Kosofe          & Benue           & Car Classic\\\\\n\t5 & 02BYET3 & 2010-09-16 & 2010-12-31 & NA        & 120 & 2010-09-16 & 4 & NA     & NA          & TOYOTA & Victoria Island & Lagos           & Muuve      \\\\\n\t6 & 02NOVWQ & 2010-08-29 & 2011-08-28 & Female    &  45 & 2010-08-29 & 2 & Saloon & Black       & Honda  & Wuse 11         & Abuja           & Car Classic\\\\\n\\end{tabular}\n",
            "text/markdown": "\nA data.frame: 6 × 13\n\n| <!--/--> | ID &lt;chr&gt; | Policy.Start.Date &lt;chr&gt; | Policy.End.Date &lt;chr&gt; | Gender &lt;chr&gt; | Age &lt;int&gt; | First.Transaction.Date &lt;chr&gt; | No_Pol &lt;int&gt; | Car_Category &lt;chr&gt; | Subject_Car_Colour &lt;chr&gt; | Subject_Car_Make &lt;chr&gt; | LGA_Name &lt;chr&gt; | State &lt;chr&gt; | ProductName &lt;chr&gt; |\n|---|---|---|---|---|---|---|---|---|---|---|---|---|---|\n| 1 | 009D84L | 2010-04-24 | 2011-03-27 | NO GENDER |  25 | 2010-04-24 | 1 | NA     | As Attached | Iveco  | Victoria Island | Lagos           | CVTP        |\n| 2 | 01DO2EQ | 2010-01-01 | 2010-12-31 | NA        | 120 | 2010-01-01 | 4 | NA     | As Attached | TOYOTA | Victoria Island | Lagos           | Muuve       |\n| 3 | 01QM0NU | 2010-10-23 | 2011-10-22 | Female    |  46 | 2010-10-23 | 1 | NA     | NA          | Ford   | Abuja Municipal | Abuja-Municipal | Car Classic |\n| 4 | 024NJLZ | 2010-10-14 | 2011-10-13 | Male      |  32 | 2010-10-14 | 1 | NA     | NA          | NA     | Kosofe          | Benue           | Car Classic |\n| 5 | 02BYET3 | 2010-09-16 | 2010-12-31 | NA        | 120 | 2010-09-16 | 4 | NA     | NA          | TOYOTA | Victoria Island | Lagos           | Muuve       |\n| 6 | 02NOVWQ | 2010-08-29 | 2011-08-28 | Female    |  45 | 2010-08-29 | 2 | Saloon | Black       | Honda  | Wuse 11         | Abuja           | Car Classic |\n\n",
            "text/html": [
              "<table class=\"dataframe\">\n",
              "<caption>A data.frame: 6 × 13</caption>\n",
              "<thead>\n",
              "\t<tr><th></th><th scope=col>ID</th><th scope=col>Policy.Start.Date</th><th scope=col>Policy.End.Date</th><th scope=col>Gender</th><th scope=col>Age</th><th scope=col>First.Transaction.Date</th><th scope=col>No_Pol</th><th scope=col>Car_Category</th><th scope=col>Subject_Car_Colour</th><th scope=col>Subject_Car_Make</th><th scope=col>LGA_Name</th><th scope=col>State</th><th scope=col>ProductName</th></tr>\n",
              "\t<tr><th></th><th scope=col>&lt;chr&gt;</th><th scope=col>&lt;chr&gt;</th><th scope=col>&lt;chr&gt;</th><th scope=col>&lt;chr&gt;</th><th scope=col>&lt;int&gt;</th><th scope=col>&lt;chr&gt;</th><th scope=col>&lt;int&gt;</th><th scope=col>&lt;chr&gt;</th><th scope=col>&lt;chr&gt;</th><th scope=col>&lt;chr&gt;</th><th scope=col>&lt;chr&gt;</th><th scope=col>&lt;chr&gt;</th><th scope=col>&lt;chr&gt;</th></tr>\n",
              "</thead>\n",
              "<tbody>\n",
              "\t<tr><th scope=row>1</th><td>009D84L</td><td>2010-04-24</td><td>2011-03-27</td><td>NO GENDER</td><td> 25</td><td>2010-04-24</td><td>1</td><td>NA    </td><td>As Attached</td><td>Iveco </td><td>Victoria Island</td><td>Lagos          </td><td>CVTP       </td></tr>\n",
              "\t<tr><th scope=row>2</th><td>01DO2EQ</td><td>2010-01-01</td><td>2010-12-31</td><td>NA       </td><td>120</td><td>2010-01-01</td><td>4</td><td>NA    </td><td>As Attached</td><td>TOYOTA</td><td>Victoria Island</td><td>Lagos          </td><td>Muuve      </td></tr>\n",
              "\t<tr><th scope=row>3</th><td>01QM0NU</td><td>2010-10-23</td><td>2011-10-22</td><td>Female   </td><td> 46</td><td>2010-10-23</td><td>1</td><td>NA    </td><td>NA         </td><td>Ford  </td><td>Abuja Municipal</td><td>Abuja-Municipal</td><td>Car Classic</td></tr>\n",
              "\t<tr><th scope=row>4</th><td>024NJLZ</td><td>2010-10-14</td><td>2011-10-13</td><td>Male     </td><td> 32</td><td>2010-10-14</td><td>1</td><td>NA    </td><td>NA         </td><td>NA    </td><td>Kosofe         </td><td>Benue          </td><td>Car Classic</td></tr>\n",
              "\t<tr><th scope=row>5</th><td>02BYET3</td><td>2010-09-16</td><td>2010-12-31</td><td>NA       </td><td>120</td><td>2010-09-16</td><td>4</td><td>NA    </td><td>NA         </td><td>TOYOTA</td><td>Victoria Island</td><td>Lagos          </td><td>Muuve      </td></tr>\n",
              "\t<tr><th scope=row>6</th><td>02NOVWQ</td><td>2010-08-29</td><td>2011-08-28</td><td>Female   </td><td> 45</td><td>2010-08-29</td><td>2</td><td>Saloon</td><td>Black      </td><td>Honda </td><td>Wuse 11        </td><td>Abuja          </td><td>Car Classic</td></tr>\n",
              "</tbody>\n",
              "</table>\n"
            ]
          },
          "metadata": {
            "tags": []
          }
        }
      ]
    },
    {
      "cell_type": "code",
      "metadata": {
        "colab": {
          "base_uri": "https://localhost:8080/",
          "height": 271
        },
        "id": "NGYueLrbNI4R",
        "outputId": "a37dbbd3-a168-481a-cdcb-266d721b1d93"
      },
      "source": [
        "# Preview first five rows of the sample submission file\r\n",
        "head(sample)"
      ],
      "execution_count": 7,
      "outputs": [
        {
          "output_type": "display_data",
          "data": {
            "text/plain": [
              "  ID      target\n",
              "1 009D84L 0     \n",
              "2 01DO2EQ 0     \n",
              "3 01QM0NU 0     \n",
              "4 024NJLZ 0     \n",
              "5 02BYET3 0     \n",
              "6 02NOVWQ 0     "
            ],
            "text/latex": "A data.frame: 6 × 2\n\\begin{tabular}{r|ll}\n  & ID & target\\\\\n  & <chr> & <int>\\\\\n\\hline\n\t1 & 009D84L & 0\\\\\n\t2 & 01DO2EQ & 0\\\\\n\t3 & 01QM0NU & 0\\\\\n\t4 & 024NJLZ & 0\\\\\n\t5 & 02BYET3 & 0\\\\\n\t6 & 02NOVWQ & 0\\\\\n\\end{tabular}\n",
            "text/markdown": "\nA data.frame: 6 × 2\n\n| <!--/--> | ID &lt;chr&gt; | target &lt;int&gt; |\n|---|---|---|\n| 1 | 009D84L | 0 |\n| 2 | 01DO2EQ | 0 |\n| 3 | 01QM0NU | 0 |\n| 4 | 024NJLZ | 0 |\n| 5 | 02BYET3 | 0 |\n| 6 | 02NOVWQ | 0 |\n\n",
            "text/html": [
              "<table class=\"dataframe\">\n",
              "<caption>A data.frame: 6 × 2</caption>\n",
              "<thead>\n",
              "\t<tr><th></th><th scope=col>ID</th><th scope=col>target</th></tr>\n",
              "\t<tr><th></th><th scope=col>&lt;chr&gt;</th><th scope=col>&lt;int&gt;</th></tr>\n",
              "</thead>\n",
              "<tbody>\n",
              "\t<tr><th scope=row>1</th><td>009D84L</td><td>0</td></tr>\n",
              "\t<tr><th scope=row>2</th><td>01DO2EQ</td><td>0</td></tr>\n",
              "\t<tr><th scope=row>3</th><td>01QM0NU</td><td>0</td></tr>\n",
              "\t<tr><th scope=row>4</th><td>024NJLZ</td><td>0</td></tr>\n",
              "\t<tr><th scope=row>5</th><td>02BYET3</td><td>0</td></tr>\n",
              "\t<tr><th scope=row>6</th><td>02NOVWQ</td><td>0</td></tr>\n",
              "</tbody>\n",
              "</table>\n"
            ]
          },
          "metadata": {
            "tags": []
          }
        }
      ]
    },
    {
      "cell_type": "code",
      "metadata": {
        "colab": {
          "base_uri": "https://localhost:8080/",
          "height": 67
        },
        "id": "x3eXskMVKFhP",
        "outputId": "a095f02b-b339-4df5-c580-fc9d7128c692"
      },
      "source": [
        "# Check the shape of the train set, test and sample submission file\r\n",
        "dim(train)\r\n",
        "dim(test)\r\n",
        "dim(sample)"
      ],
      "execution_count": 8,
      "outputs": [
        {
          "output_type": "display_data",
          "data": {
            "text/plain": [
              "[1] 12079    14"
            ],
            "text/latex": "\\begin{enumerate*}\n\\item 12079\n\\item 14\n\\end{enumerate*}\n",
            "text/markdown": "1. 12079\n2. 14\n\n\n",
            "text/html": [
              "<style>\n",
              ".list-inline {list-style: none; margin:0; padding: 0}\n",
              ".list-inline>li {display: inline-block}\n",
              ".list-inline>li:not(:last-child)::after {content: \"\\00b7\"; padding: 0 .5ex}\n",
              "</style>\n",
              "<ol class=list-inline><li>12079</li><li>14</li></ol>\n"
            ]
          },
          "metadata": {
            "tags": []
          }
        },
        {
          "output_type": "display_data",
          "data": {
            "text/plain": [
              "[1] 5177   13"
            ],
            "text/latex": "\\begin{enumerate*}\n\\item 5177\n\\item 13\n\\end{enumerate*}\n",
            "text/markdown": "1. 5177\n2. 13\n\n\n",
            "text/html": [
              "<style>\n",
              ".list-inline {list-style: none; margin:0; padding: 0}\n",
              ".list-inline>li {display: inline-block}\n",
              ".list-inline>li:not(:last-child)::after {content: \"\\00b7\"; padding: 0 .5ex}\n",
              "</style>\n",
              "<ol class=list-inline><li>5177</li><li>13</li></ol>\n"
            ]
          },
          "metadata": {
            "tags": []
          }
        },
        {
          "output_type": "display_data",
          "data": {
            "text/plain": [
              "[1] 5177    2"
            ],
            "text/latex": "\\begin{enumerate*}\n\\item 5177\n\\item 2\n\\end{enumerate*}\n",
            "text/markdown": "1. 5177\n2. 2\n\n\n",
            "text/html": [
              "<style>\n",
              ".list-inline {list-style: none; margin:0; padding: 0}\n",
              ".list-inline>li {display: inline-block}\n",
              ".list-inline>li:not(:last-child)::after {content: \"\\00b7\"; padding: 0 .5ex}\n",
              "</style>\n",
              "<ol class=list-inline><li>5177</li><li>2</li></ol>\n"
            ]
          },
          "metadata": {
            "tags": []
          }
        }
      ]
    },
    {
      "cell_type": "code",
      "metadata": {
        "colab": {
          "base_uri": "https://localhost:8080/",
          "height": 557
        },
        "id": "q5Co6VkQ2COJ",
        "outputId": "17a2c554-44e2-491b-d4be-89325baeb99a"
      },
      "source": [
        "# Check if there any missing values in train set\r\n",
        "options(repr.plot.width = 15, repr.plot.height = 9)\r\n",
        "visdat::vis_miss(train) + \r\n",
        "  labs(title = 'Percentage of Missing Values Per Column in Train Set')"
      ],
      "execution_count": 9,
      "outputs": [
        {
          "output_type": "display_data",
          "data": {
            "image/png": "[encoded data removed]",
            "text/plain": [
              "plot without title"
            ]
          },
          "metadata": {
            "tags": [],
            "image/png": {
              "width": 900,
              "height": 540
            }
          }
        }
      ]
    },
    {
      "cell_type": "code",
      "metadata": {
        "colab": {
          "base_uri": "https://localhost:8080/",
          "height": 557
        },
        "id": "M96OWyGW2ssq",
        "outputId": "b21ba215-2251-4d90-aa60-1da79d589b4e"
      },
      "source": [
        "# Check if there any missing values in test set\r\n",
        "options(repr.plot.width = 15, repr.plot.height = 9)\r\n",
        "visdat::vis_miss(test) + \r\n",
        "  labs(title = 'Percentage of Missing Values Per Column in Test Set')"
      ],
      "execution_count": 10,
      "outputs": [
        {
          "output_type": "display_data",
          "data": {
            "image/png": "[encoded data removed]",
            "text/plain": [
              "plot without title"
            ]
          },
          "metadata": {
            "tags": [],
            "image/png": {
              "width": 900,
              "height": 540
            }
          }
        }
      ]
    },
    {
      "cell_type": "markdown",
      "metadata": {
        "id": "HdrQUu3ysIMG"
      },
      "source": [
        "## Combine train and test set for easy preprocessing "
      ]
    },
    {
      "cell_type": "code",
      "metadata": {
        "colab": {
          "base_uri": "https://localhost:8080/",
          "height": 291
        },
        "id": "U61lwNJyr7Im",
        "outputId": "69f45c81-6050-44c5-bda3-6adbce441cdc"
      },
      "source": [
        "# Add target column to test for rbinding\r\n",
        "test$target = NA\r\n",
        "\r\n",
        "# To be used in splitting\r\n",
        "ntrain = dim(train)[1]\r\n",
        "\r\n",
        "all_data = rbind(train, test)\r\n",
        "head(all_data)"
      ],
      "execution_count": 11,
      "outputs": [
        {
          "output_type": "display_data",
          "data": {
            "text/plain": [
              "  ID      Policy.Start.Date Policy.End.Date Gender Age First.Transaction.Date\n",
              "1 0040R73 2010-05-14        2011-05-13      Male   30  2010-05-14            \n",
              "2 0046BNK 2010-11-29        2011-11-28      Female 79  2010-11-29            \n",
              "3 005QMC3 2010-03-21        2011-03-20      Male   43  2010-03-21            \n",
              "4 0079OHW 2010-08-21        2011-08-20      Male    2  2010-08-21            \n",
              "5 00BRP63 2010-08-29        2010-12-31      Entity 20  2010-08-29            \n",
              "6 00D3EF6 2010-10-21        2011-10-20      Male   37  2010-10-21            \n",
              "  No_Pol Car_Category Subject_Car_Colour Subject_Car_Make LGA_Name State\n",
              "1 1      Saloon       Black              TOYOTA           NA       NA   \n",
              "2 1      JEEP         Grey               TOYOTA           NA       NA   \n",
              "3 1      Saloon       Red                TOYOTA           NA       NA   \n",
              "4 1      NA           NA                 NA               NA       NA   \n",
              "5 3      NA           NA                 NA               Lagos    Lagos\n",
              "6 2      NA           NA                 NA               NA       NA   \n",
              "  ProductName target\n",
              "1 Car Classic 0     \n",
              "2 Car Classic 1     \n",
              "3 Car Classic 0     \n",
              "4 CarSafe     0     \n",
              "5 Muuve       1     \n",
              "6 Car Classic 0     "
            ],
            "text/latex": "A data.frame: 6 × 14\n\\begin{tabular}{r|llllllllllllll}\n  & ID & Policy.Start.Date & Policy.End.Date & Gender & Age & First.Transaction.Date & No\\_Pol & Car\\_Category & Subject\\_Car\\_Colour & Subject\\_Car\\_Make & LGA\\_Name & State & ProductName & target\\\\\n  & <chr> & <chr> & <chr> & <chr> & <int> & <chr> & <int> & <chr> & <chr> & <chr> & <chr> & <chr> & <chr> & <int>\\\\\n\\hline\n\t1 & 0040R73 & 2010-05-14 & 2011-05-13 & Male   & 30 & 2010-05-14 & 1 & Saloon & Black & TOYOTA & NA    & NA    & Car Classic & 0\\\\\n\t2 & 0046BNK & 2010-11-29 & 2011-11-28 & Female & 79 & 2010-11-29 & 1 & JEEP   & Grey  & TOYOTA & NA    & NA    & Car Classic & 1\\\\\n\t3 & 005QMC3 & 2010-03-21 & 2011-03-20 & Male   & 43 & 2010-03-21 & 1 & Saloon & Red   & TOYOTA & NA    & NA    & Car Classic & 0\\\\\n\t4 & 0079OHW & 2010-08-21 & 2011-08-20 & Male   &  2 & 2010-08-21 & 1 & NA     & NA    & NA     & NA    & NA    & CarSafe     & 0\\\\\n\t5 & 00BRP63 & 2010-08-29 & 2010-12-31 & Entity & 20 & 2010-08-29 & 3 & NA     & NA    & NA     & Lagos & Lagos & Muuve       & 1\\\\\n\t6 & 00D3EF6 & 2010-10-21 & 2011-10-20 & Male   & 37 & 2010-10-21 & 2 & NA     & NA    & NA     & NA    & NA    & Car Classic & 0\\\\\n\\end{tabular}\n",
            "text/markdown": "\nA data.frame: 6 × 14\n\n| <!--/--> | ID &lt;chr&gt; | Policy.Start.Date &lt;chr&gt; | Policy.End.Date &lt;chr&gt; | Gender &lt;chr&gt; | Age &lt;int&gt; | First.Transaction.Date &lt;chr&gt; | No_Pol &lt;int&gt; | Car_Category &lt;chr&gt; | Subject_Car_Colour &lt;chr&gt; | Subject_Car_Make &lt;chr&gt; | LGA_Name &lt;chr&gt; | State &lt;chr&gt; | ProductName &lt;chr&gt; | target &lt;int&gt; |\n|---|---|---|---|---|---|---|---|---|---|---|---|---|---|---|\n| 1 | 0040R73 | 2010-05-14 | 2011-05-13 | Male   | 30 | 2010-05-14 | 1 | Saloon | Black | TOYOTA | NA    | NA    | Car Classic | 0 |\n| 2 | 0046BNK | 2010-11-29 | 2011-11-28 | Female | 79 | 2010-11-29 | 1 | JEEP   | Grey  | TOYOTA | NA    | NA    | Car Classic | 1 |\n| 3 | 005QMC3 | 2010-03-21 | 2011-03-20 | Male   | 43 | 2010-03-21 | 1 | Saloon | Red   | TOYOTA | NA    | NA    | Car Classic | 0 |\n| 4 | 0079OHW | 2010-08-21 | 2011-08-20 | Male   |  2 | 2010-08-21 | 1 | NA     | NA    | NA     | NA    | NA    | CarSafe     | 0 |\n| 5 | 00BRP63 | 2010-08-29 | 2010-12-31 | Entity | 20 | 2010-08-29 | 3 | NA     | NA    | NA     | Lagos | Lagos | Muuve       | 1 |\n| 6 | 00D3EF6 | 2010-10-21 | 2011-10-20 | Male   | 37 | 2010-10-21 | 2 | NA     | NA    | NA     | NA    | NA    | Car Classic | 0 |\n\n",
            "text/html": [
              "<table class=\"dataframe\">\n",
              "<caption>A data.frame: 6 × 14</caption>\n",
              "<thead>\n",
              "\t<tr><th></th><th scope=col>ID</th><th scope=col>Policy.Start.Date</th><th scope=col>Policy.End.Date</th><th scope=col>Gender</th><th scope=col>Age</th><th scope=col>First.Transaction.Date</th><th scope=col>No_Pol</th><th scope=col>Car_Category</th><th scope=col>Subject_Car_Colour</th><th scope=col>Subject_Car_Make</th><th scope=col>LGA_Name</th><th scope=col>State</th><th scope=col>ProductName</th><th scope=col>target</th></tr>\n",
              "\t<tr><th></th><th scope=col>&lt;chr&gt;</th><th scope=col>&lt;chr&gt;</th><th scope=col>&lt;chr&gt;</th><th scope=col>&lt;chr&gt;</th><th scope=col>&lt;int&gt;</th><th scope=col>&lt;chr&gt;</th><th scope=col>&lt;int&gt;</th><th scope=col>&lt;chr&gt;</th><th scope=col>&lt;chr&gt;</th><th scope=col>&lt;chr&gt;</th><th scope=col>&lt;chr&gt;</th><th scope=col>&lt;chr&gt;</th><th scope=col>&lt;chr&gt;</th><th scope=col>&lt;int&gt;</th></tr>\n",
              "</thead>\n",
              "<tbody>\n",
              "\t<tr><th scope=row>1</th><td>0040R73</td><td>2010-05-14</td><td>2011-05-13</td><td>Male  </td><td>30</td><td>2010-05-14</td><td>1</td><td>Saloon</td><td>Black</td><td>TOYOTA</td><td>NA   </td><td>NA   </td><td>Car Classic</td><td>0</td></tr>\n",
              "\t<tr><th scope=row>2</th><td>0046BNK</td><td>2010-11-29</td><td>2011-11-28</td><td>Female</td><td>79</td><td>2010-11-29</td><td>1</td><td>JEEP  </td><td>Grey </td><td>TOYOTA</td><td>NA   </td><td>NA   </td><td>Car Classic</td><td>1</td></tr>\n",
              "\t<tr><th scope=row>3</th><td>005QMC3</td><td>2010-03-21</td><td>2011-03-20</td><td>Male  </td><td>43</td><td>2010-03-21</td><td>1</td><td>Saloon</td><td>Red  </td><td>TOYOTA</td><td>NA   </td><td>NA   </td><td>Car Classic</td><td>0</td></tr>\n",
              "\t<tr><th scope=row>4</th><td>0079OHW</td><td>2010-08-21</td><td>2011-08-20</td><td>Male  </td><td> 2</td><td>2010-08-21</td><td>1</td><td>NA    </td><td>NA   </td><td>NA    </td><td>NA   </td><td>NA   </td><td>CarSafe    </td><td>0</td></tr>\n",
              "\t<tr><th scope=row>5</th><td>00BRP63</td><td>2010-08-29</td><td>2010-12-31</td><td>Entity</td><td>20</td><td>2010-08-29</td><td>3</td><td>NA    </td><td>NA   </td><td>NA    </td><td>Lagos</td><td>Lagos</td><td>Muuve      </td><td>1</td></tr>\n",
              "\t<tr><th scope=row>6</th><td>00D3EF6</td><td>2010-10-21</td><td>2011-10-20</td><td>Male  </td><td>37</td><td>2010-10-21</td><td>2</td><td>NA    </td><td>NA   </td><td>NA    </td><td>NA   </td><td>NA   </td><td>Car Classic</td><td>0</td></tr>\n",
              "</tbody>\n",
              "</table>\n"
            ]
          },
          "metadata": {
            "tags": []
          }
        }
      ]
    },
    {
      "cell_type": "code",
      "metadata": {
        "colab": {
          "base_uri": "https://localhost:8080/",
          "height": 305
        },
        "id": "w8z9A9C14Bwn",
        "outputId": "7bee2c30-f31c-449c-9e10-d411a060b69f"
      },
      "source": [
        "# Total missing values\r\n",
        "train %>%\r\n",
        "  gather(key = \"key\", value = \"val\") %>%\r\n",
        "  mutate(is.missing = is.na(val)) %>%\r\n",
        "  group_by(key, is.missing) %>%\r\n",
        "  summarise(num.missing = n()) %>%\r\n",
        "  filter(is.missing==T) %>%\r\n",
        "  select(-is.missing) %>%\r\n",
        "  arrange(desc(num.missing))"
      ],
      "execution_count": 12,
      "outputs": [
        {
          "output_type": "stream",
          "text": [
            "`summarise()` has grouped output by 'key'. You can override using the `.groups` argument.\n",
            "\n"
          ],
          "name": "stderr"
        },
        {
          "output_type": "display_data",
          "data": {
            "text/plain": [
              "  key                num.missing\n",
              "1 Subject_Car_Colour 6962       \n",
              "2 State              6488       \n",
              "3 LGA_Name           6476       \n",
              "4 Car_Category       3738       \n",
              "5 Subject_Car_Make   2476       \n",
              "6 Gender              359       "
            ],
            "text/latex": "A grouped\\_df: 6 × 2\n\\begin{tabular}{ll}\n key & num.missing\\\\\n <chr> & <int>\\\\\n\\hline\n\t Subject\\_Car\\_Colour & 6962\\\\\n\t State              & 6488\\\\\n\t LGA\\_Name           & 6476\\\\\n\t Car\\_Category       & 3738\\\\\n\t Subject\\_Car\\_Make   & 2476\\\\\n\t Gender             &  359\\\\\n\\end{tabular}\n",
            "text/markdown": "\nA grouped_df: 6 × 2\n\n| key &lt;chr&gt; | num.missing &lt;int&gt; |\n|---|---|\n| Subject_Car_Colour | 6962 |\n| State              | 6488 |\n| LGA_Name           | 6476 |\n| Car_Category       | 3738 |\n| Subject_Car_Make   | 2476 |\n| Gender             |  359 |\n\n",
            "text/html": [
              "<table class=\"dataframe\">\n",
              "<caption>A grouped_df: 6 × 2</caption>\n",
              "<thead>\n",
              "\t<tr><th scope=col>key</th><th scope=col>num.missing</th></tr>\n",
              "\t<tr><th scope=col>&lt;chr&gt;</th><th scope=col>&lt;int&gt;</th></tr>\n",
              "</thead>\n",
              "<tbody>\n",
              "\t<tr><td>Subject_Car_Colour</td><td>6962</td></tr>\n",
              "\t<tr><td>State             </td><td>6488</td></tr>\n",
              "\t<tr><td>LGA_Name          </td><td>6476</td></tr>\n",
              "\t<tr><td>Car_Category      </td><td>3738</td></tr>\n",
              "\t<tr><td>Subject_Car_Make  </td><td>2476</td></tr>\n",
              "\t<tr><td>Gender            </td><td> 359</td></tr>\n",
              "</tbody>\n",
              "</table>\n"
            ]
          },
          "metadata": {
            "tags": []
          }
        }
      ]
    },
    {
      "cell_type": "code",
      "metadata": {
        "colab": {
          "base_uri": "https://localhost:8080/"
        },
        "id": "If99y3aNswxw",
        "outputId": "0c1ad0d3-645e-4b9f-86e2-14c4fb6bf2be"
      },
      "source": [
        "# Check the datatypes of each column\r\n",
        "glimpse(all_data)"
      ],
      "execution_count": 13,
      "outputs": [
        {
          "output_type": "stream",
          "text": [
            "Rows: 17,256\n",
            "Columns: 14\n",
            "$ ID                     \u001b[3m\u001b[90m<chr>\u001b[39m\u001b[23m \"0040R73\", \"0046BNK\", \"005QMC3\", \"0079OHW\", \"00…\n",
            "$ Policy.Start.Date      \u001b[3m\u001b[90m<chr>\u001b[39m\u001b[23m \"2010-05-14\", \"2010-11-29\", \"2010-03-21\", \"2010…\n",
            "$ Policy.End.Date        \u001b[3m\u001b[90m<chr>\u001b[39m\u001b[23m \"2011-05-13\", \"2011-11-28\", \"2011-03-20\", \"2011…\n",
            "$ Gender                 \u001b[3m\u001b[90m<chr>\u001b[39m\u001b[23m \"Male\", \"Female\", \"Male\", \"Male\", \"Entity\", \"Ma…\n",
            "$ Age                    \u001b[3m\u001b[90m<int>\u001b[39m\u001b[23m 30, 79, 43, 2, 20, 37, 40, 43, 71, 58, 43, 45, …\n",
            "$ First.Transaction.Date \u001b[3m\u001b[90m<chr>\u001b[39m\u001b[23m \"2010-05-14\", \"2010-11-29\", \"2010-03-21\", \"2010…\n",
            "$ No_Pol                 \u001b[3m\u001b[90m<int>\u001b[39m\u001b[23m 1, 1, 1, 1, 3, 2, 3, 1, 2, 1, 1, 1, 1, 2, 1, 1,…\n",
            "$ Car_Category           \u001b[3m\u001b[90m<chr>\u001b[39m\u001b[23m \"Saloon\", \"JEEP\", \"Saloon\", NA, NA, NA, NA, \"Sa…\n",
            "$ Subject_Car_Colour     \u001b[3m\u001b[90m<chr>\u001b[39m\u001b[23m \"Black\", \"Grey\", \"Red\", NA, NA, NA, NA, NA, \"Bl…\n",
            "$ Subject_Car_Make       \u001b[3m\u001b[90m<chr>\u001b[39m\u001b[23m \"TOYOTA\", \"TOYOTA\", \"TOYOTA\", NA, NA, NA, NA, \"…\n",
            "$ LGA_Name               \u001b[3m\u001b[90m<chr>\u001b[39m\u001b[23m NA, NA, NA, NA, \"Lagos\", NA, \"Ikeja\", NA, \"Bada…\n",
            "$ State                  \u001b[3m\u001b[90m<chr>\u001b[39m\u001b[23m NA, NA, NA, NA, \"Lagos\", NA, \"Lagos\", NA, \"Benu…\n",
            "$ ProductName            \u001b[3m\u001b[90m<chr>\u001b[39m\u001b[23m \"Car Classic\", \"Car Classic\", \"Car Classic\", \"C…\n",
            "$ target                 \u001b[3m\u001b[90m<int>\u001b[39m\u001b[23m 0, 1, 0, 0, 1, 0, 0, 0, 0, 0, 0, 0, 1, 0, 0, 0,…\n"
          ],
          "name": "stdout"
        }
      ]
    },
    {
      "cell_type": "code",
      "metadata": {
        "colab": {
          "base_uri": "https://localhost:8080/"
        },
        "id": "e1qBl3o4swut",
        "outputId": "74a3ba68-c81c-41e0-c3ed-a6c3aa036762"
      },
      "source": [
        "# Change each column to its appriopriate datatype\r\n",
        "date_cols = c(\"Policy.Start.Date\", \"Policy.End.Date\", \"First.Transaction.Date\")\r\n",
        "num_cols = c('Age', 'No_Pol')\r\n",
        "cat_cols = c('Gender','Car_Category','Subject_Car_Colour','Subject_Car_Make','LGA_Name','State','ProductName')\r\n",
        "\r\n",
        "all_data[date_cols] = lapply(all_data[date_cols], as.Date)\r\n",
        "all_data[cat_cols] = lapply(all_data[cat_cols], as.factor)\r\n",
        "\r\n",
        "# Confirm whether the changes have been applied successfully\r\n",
        "glimpse(all_data)"
      ],
      "execution_count": 14,
      "outputs": [
        {
          "output_type": "stream",
          "text": [
            "Rows: 17,256\n",
            "Columns: 14\n",
            "$ ID                     \u001b[3m\u001b[90m<chr>\u001b[39m\u001b[23m \"0040R73\", \"0046BNK\", \"005QMC3\", \"0079OHW\", \"00…\n",
            "$ Policy.Start.Date      \u001b[3m\u001b[90m<date>\u001b[39m\u001b[23m 2010-05-14, 2010-11-29, 2010-03-21, 2010-08-21…\n",
            "$ Policy.End.Date        \u001b[3m\u001b[90m<date>\u001b[39m\u001b[23m 2011-05-13, 2011-11-28, 2011-03-20, 2011-08-20…\n",
            "$ Gender                 \u001b[3m\u001b[90m<fct>\u001b[39m\u001b[23m Male, Female, Male, Male, Entity, Male, Female,…\n",
            "$ Age                    \u001b[3m\u001b[90m<int>\u001b[39m\u001b[23m 30, 79, 43, 2, 20, 37, 40, 43, 71, 58, 43, 45, …\n",
            "$ First.Transaction.Date \u001b[3m\u001b[90m<date>\u001b[39m\u001b[23m 2010-05-14, 2010-11-29, 2010-03-21, 2010-08-21…\n",
            "$ No_Pol                 \u001b[3m\u001b[90m<int>\u001b[39m\u001b[23m 1, 1, 1, 1, 3, 2, 3, 1, 2, 1, 1, 1, 1, 2, 1, 1,…\n",
            "$ Car_Category           \u001b[3m\u001b[90m<fct>\u001b[39m\u001b[23m Saloon, JEEP, Saloon, NA, NA, NA, NA, Saloon, J…\n",
            "$ Subject_Car_Colour     \u001b[3m\u001b[90m<fct>\u001b[39m\u001b[23m Black, Grey, Red, NA, NA, NA, NA, NA, Black, NA…\n",
            "$ Subject_Car_Make       \u001b[3m\u001b[90m<fct>\u001b[39m\u001b[23m TOYOTA, TOYOTA, TOYOTA, NA, NA, NA, NA, TOYOTA,…\n",
            "$ LGA_Name               \u001b[3m\u001b[90m<fct>\u001b[39m\u001b[23m NA, NA, NA, NA, Lagos, NA, Ikeja, NA, Badagry, …\n",
            "$ State                  \u001b[3m\u001b[90m<fct>\u001b[39m\u001b[23m NA, NA, NA, NA, Lagos, NA, Lagos, NA, Benue, Et…\n",
            "$ ProductName            \u001b[3m\u001b[90m<fct>\u001b[39m\u001b[23m Car Classic, Car Classic, Car Classic, CarSafe,…\n",
            "$ target                 \u001b[3m\u001b[90m<int>\u001b[39m\u001b[23m 0, 1, 0, 0, 1, 0, 0, 0, 0, 0, 0, 0, 1, 0, 0, 0,…\n"
          ],
          "name": "stdout"
        }
      ]
    },
    {
      "cell_type": "markdown",
      "metadata": {
        "id": "uJ7nVxS64gr9"
      },
      "source": [
        "### Distribution of the target variable"
      ]
    },
    {
      "cell_type": "code",
      "metadata": {
        "colab": {
          "base_uri": "https://localhost:8080/",
          "height": 377
        },
        "id": "MZ15_zyX20OT",
        "outputId": "81a695f4-155e-4f89-dcd3-280853b70393"
      },
      "source": [
        "options(repr.plot.width = 7, repr.plot.height = 6)\r\n",
        "ggplot(train, aes(x=target)) +\r\n",
        "  geom_bar() +\r\n",
        "  labs(title = \"Distribution of the target variable\")"
      ],
      "execution_count": 15,
      "outputs": [
        {
          "output_type": "display_data",
          "data": {
            "image/png": "[encoded data removed]",
            "text/plain": [
              "plot without title"
            ]
          },
          "metadata": {
            "tags": [],
            "image/png": {
              "width": 420,
              "height": 360
            }
          }
        }
      ]
    },
    {
      "cell_type": "markdown",
      "metadata": {
        "id": "3PF0OraX-v2i"
      },
      "source": [
        "### Distribution of the Gender column"
      ]
    },
    {
      "cell_type": "code",
      "metadata": {
        "colab": {
          "base_uri": "https://localhost:8080/",
          "height": 377
        },
        "id": "8fYGhJFM20MO",
        "outputId": "2e269a16-0da3-45eb-967b-9f6af9d22492"
      },
      "source": [
        "options(repr.plot.width = 12, repr.plot.height = 6)\r\n",
        "ggplot(all_data, aes(x = Gender)) + \r\n",
        "  geom_bar() + \r\n",
        "  labs(title=\"Distribution of the Gender column\")"
      ],
      "execution_count": 16,
      "outputs": [
        {
          "output_type": "display_data",
          "data": {
            "image/png": "[encoded data removed]",
            "text/plain": [
              "plot without title"
            ]
          },
          "metadata": {
            "tags": [],
            "image/png": {
              "width": 720,
              "height": 360
            }
          }
        }
      ]
    },
    {
      "cell_type": "code",
      "metadata": {
        "colab": {
          "base_uri": "https://localhost:8080/"
        },
        "id": "x-992vTH20Fg",
        "outputId": "67d94106-8bf9-4433-bd64-018a2c02f08b"
      },
      "source": [
        "all_data$Gender = recode(all_data$Gender, 'Entity'='Other', 'Joint Gender'='Other', 'NOT STATED'='Other', 'NO GENDER'='Other', 'SEX'=\"Other\")\r\n",
        "\r\n",
        "# Confirm mappings\r\n",
        "print(unique(all_data$Gender))"
      ],
      "execution_count": 17,
      "outputs": [
        {
          "output_type": "stream",
          "text": [
            "[1] Male   Female Other  <NA>  \n",
            "Levels: Other Female Male\n"
          ],
          "name": "stdout"
        }
      ]
    },
    {
      "cell_type": "markdown",
      "metadata": {
        "id": "SjV8vX6Q__r9"
      },
      "source": [
        "### Number of unique values per categorical column"
      ]
    },
    {
      "cell_type": "code",
      "metadata": {
        "colab": {
          "base_uri": "https://localhost:8080/"
        },
        "id": "ELs0HuR220D-",
        "outputId": "f6d78b25-0fcb-4303-aeb9-8597727da1be"
      },
      "source": [
        "# Check unique values for each categorical column\r\n",
        "for (col in cat_cols){\r\n",
        "  print(paste0(col, ':  ', length(unique(all_data[[col]]))))\r\n",
        "}"
      ],
      "execution_count": 18,
      "outputs": [
        {
          "output_type": "stream",
          "text": [
            "[1] \"Gender:  4\"\n",
            "[1] \"Car_Category:  17\"\n",
            "[1] \"Subject_Car_Colour:  47\"\n",
            "[1] \"Subject_Car_Make:  76\"\n",
            "[1] \"LGA_Name:  271\"\n",
            "[1] \"State:  114\"\n",
            "[1] \"ProductName:  9\"\n"
          ],
          "name": "stdout"
        }
      ]
    },
    {
      "cell_type": "markdown",
      "metadata": {
        "id": "fPgrkg49BXgl"
      },
      "source": [
        "### Filling in missing values\r\n",
        "#### Missing values can be filled using different strategies\r\n",
        "Tips:\r\n",
        " - Mean\r\n",
        " - Max\r\n",
        " - Min\r\n",
        " - Mode\r\n",
        " -Drop observations with missing values\r\n",
        " - [Mice - Multivariate Imputation by Chained Equations](https://cran.r-project.org/web/packages/mice/index.html)\r\n",
        " - Others... do more reasearch"
      ]
    },
    {
      "cell_type": "code",
      "metadata": {
        "colab": {
          "base_uri": "https://localhost:8080/",
          "height": 178
        },
        "id": "EasXRdiO20Aj",
        "outputId": "4975fd32-9537-4590-ff82-275aa378e32e"
      },
      "source": [
        "# Fill in missing values \r\n",
        "# Function to get mode\r\n",
        "getmode = function(x) {\r\n",
        "  ux = na.omit(unique(x) )\r\n",
        " tab = tabulate(match(x, ux)); ux[tab == max(tab) ]\r\n",
        "}\r\n",
        "\r\n",
        "# Fill cat cols with mode\r\n",
        "all_data$Gender[which(is.na(all_data$Gender))] = getmode(all_data$Gender)\r\n",
        "all_data$Car_Category[which(is.na(all_data$Car_Category))] = getmode(all_data$Car_Category)\r\n",
        "all_data$Subject_Car_Colour[which(is.na(all_data$Subject_Car_Colour))] = getmode(all_data$Subject_Car_Colour)\r\n",
        "all_data$Subject_Car_Make[which(is.na(all_data$Subject_Car_Make))] = getmode(all_data$Subject_Car_Make)\r\n",
        "all_data$LGA_Name[which(is.na(all_data$LGA_Name))] = getmode(all_data$LGA_Name)\r\n",
        "all_data$State[which(is.na(all_data$State))] = getmode(all_data$State)\r\n",
        "all_data$ProductName[which(is.na(all_data$ProductName))] = getmode(all_data$ProductName)\r\n",
        "\r\n",
        "# Confirm that there aren't any missing values\r\n",
        "all_data[, -which(names(all_data) %in% c(\"target\"))] %>%\r\n",
        "  gather(key = \"key\", value = \"val\") %>%\r\n",
        "  mutate(is.missing = is.na(val)) %>%\r\n",
        "  group_by(key, is.missing) %>%\r\n",
        "  summarise(num.missing = n()) %>%\r\n",
        "  filter(is.missing==T) %>%\r\n",
        "  select(-is.missing) %>%\r\n",
        "  arrange(desc(num.missing))"
      ],
      "execution_count": 19,
      "outputs": [
        {
          "output_type": "stream",
          "text": [
            "Warning message:\n",
            "“attributes are not identical across measure variables;\n",
            "they will be dropped”\n",
            "`summarise()` has grouped output by 'key'. You can override using the `.groups` argument.\n",
            "\n"
          ],
          "name": "stderr"
        },
        {
          "output_type": "display_data",
          "data": {
            "text/plain": [
              "     key num.missing"
            ],
            "text/latex": "A grouped\\_df: 0 × 2\n\\begin{tabular}{ll}\n key & num.missing\\\\\n <chr> & <int>\\\\\n\\hline\n\\end{tabular}\n",
            "text/markdown": "\nA grouped_df: 0 × 2\n\n| key &lt;chr&gt; | num.missing &lt;int&gt; |\n|---|---|\n\n",
            "text/html": [
              "<table class=\"dataframe\">\n",
              "<caption>A grouped_df: 0 × 2</caption>\n",
              "<thead>\n",
              "\t<tr><th scope=col>key</th><th scope=col>num.missing</th></tr>\n",
              "\t<tr><th scope=col>&lt;chr&gt;</th><th scope=col>&lt;int&gt;</th></tr>\n",
              "</thead>\n",
              "<tbody>\n",
              "</tbody>\n",
              "</table>\n"
            ]
          },
          "metadata": {
            "tags": []
          }
        }
      ]
    },
    {
      "cell_type": "markdown",
      "metadata": {
        "id": "9VS_8a6-Uzlh"
      },
      "source": [
        "### Feature Engineering\r\n",
        "#### Alot of features can be extracted from dates\r\n",
        "Tips:\r\n",
        " - Quarter, Start of Year, month?\r\n",
        " - Is it a weekend, weekday?\r\n",
        " - Is it a holiday\r\n",
        " - Duration between different periods, e.g start and end of a policy\r\n",
        " - What features can be derived from the age column\r\n",
        " - Be creative 😉"
      ]
    },
    {
      "cell_type": "code",
      "metadata": {
        "colab": {
          "base_uri": "https://localhost:8080/",
          "height": 308
        },
        "id": "Pp0sIdi9U081",
        "outputId": "00da717d-0617-4d50-c4d7-7d8948802f41"
      },
      "source": [
        "# Extract date features from the date columns\r\n",
        "for (col in date_cols){\r\n",
        "  all_data[paste(col, 'Year', sep=\" \")] = format(all_data[col], \"%Y\")\r\n",
        "  all_data[paste(col, 'Month', sep=\" \")] = format(all_data[col], \"%m\")\r\n",
        "  all_data[paste(col, 'Day', sep=\" \")] = format(all_data[col], \"%d\")\r\n",
        "}\r\n",
        "\r\n",
        "head(all_data)"
      ],
      "execution_count": 20,
      "outputs": [
        {
          "output_type": "display_data",
          "data": {
            "text/plain": [
              "  ID      Policy.Start.Date Policy.End.Date Gender Age First.Transaction.Date\n",
              "1 0040R73 2010-05-14        2011-05-13      Male   30  2010-05-14            \n",
              "2 0046BNK 2010-11-29        2011-11-28      Female 79  2010-11-29            \n",
              "3 005QMC3 2010-03-21        2011-03-20      Male   43  2010-03-21            \n",
              "4 0079OHW 2010-08-21        2011-08-20      Male    2  2010-08-21            \n",
              "5 00BRP63 2010-08-29        2010-12-31      Other  20  2010-08-29            \n",
              "6 00D3EF6 2010-10-21        2011-10-20      Male   37  2010-10-21            \n",
              "  No_Pol Car_Category Subject_Car_Colour Subject_Car_Make ⋯ target\n",
              "1 1      Saloon       Black              TOYOTA           ⋯ 0     \n",
              "2 1      JEEP         Grey               TOYOTA           ⋯ 1     \n",
              "3 1      Saloon       Red                TOYOTA           ⋯ 0     \n",
              "4 1      Saloon       Black              TOYOTA           ⋯ 0     \n",
              "5 3      Saloon       Black              TOYOTA           ⋯ 1     \n",
              "6 2      Saloon       Black              TOYOTA           ⋯ 0     \n",
              "  Policy.Start.Date Year Policy.Start.Date Month Policy.Start.Date Day\n",
              "1 2010                   05                      14                   \n",
              "2 2010                   11                      29                   \n",
              "3 2010                   03                      21                   \n",
              "4 2010                   08                      21                   \n",
              "5 2010                   08                      29                   \n",
              "6 2010                   10                      21                   \n",
              "  Policy.End.Date Year Policy.End.Date Month Policy.End.Date Day\n",
              "1 2011                 05                    13                 \n",
              "2 2011                 11                    28                 \n",
              "3 2011                 03                    20                 \n",
              "4 2011                 08                    20                 \n",
              "5 2010                 12                    31                 \n",
              "6 2011                 10                    20                 \n",
              "  First.Transaction.Date Year First.Transaction.Date Month\n",
              "1 2010                        05                          \n",
              "2 2010                        11                          \n",
              "3 2010                        03                          \n",
              "4 2010                        08                          \n",
              "5 2010                        08                          \n",
              "6 2010                        10                          \n",
              "  First.Transaction.Date Day\n",
              "1 14                        \n",
              "2 29                        \n",
              "3 21                        \n",
              "4 21                        \n",
              "5 29                        \n",
              "6 21                        "
            ],
            "text/latex": "A data.frame: 6 × 23\n\\begin{tabular}{r|lllllllllllllllllllll}\n  & ID & Policy.Start.Date & Policy.End.Date & Gender & Age & First.Transaction.Date & No\\_Pol & Car\\_Category & Subject\\_Car\\_Colour & Subject\\_Car\\_Make & ⋯ & target & Policy.Start.Date Year & Policy.Start.Date Month & Policy.Start.Date Day & Policy.End.Date Year & Policy.End.Date Month & Policy.End.Date Day & First.Transaction.Date Year & First.Transaction.Date Month & First.Transaction.Date Day\\\\\n  & <chr> & <date> & <date> & <fct> & <int> & <date> & <int> & <fct> & <fct> & <fct> & ⋯ & <int> & <I<chr>> & <I<chr>> & <I<chr>> & <I<chr>> & <I<chr>> & <I<chr>> & <I<chr>> & <I<chr>> & <I<chr>>\\\\\n\\hline\n\t1 & 0040R73 & 2010-05-14 & 2011-05-13 & Male   & 30 & 2010-05-14 & 1 & Saloon & Black & TOYOTA & ⋯ & 0 & 2010 & 05 & 14 & 2011 & 05 & 13 & 2010 & 05 & 14\\\\\n\t2 & 0046BNK & 2010-11-29 & 2011-11-28 & Female & 79 & 2010-11-29 & 1 & JEEP   & Grey  & TOYOTA & ⋯ & 1 & 2010 & 11 & 29 & 2011 & 11 & 28 & 2010 & 11 & 29\\\\\n\t3 & 005QMC3 & 2010-03-21 & 2011-03-20 & Male   & 43 & 2010-03-21 & 1 & Saloon & Red   & TOYOTA & ⋯ & 0 & 2010 & 03 & 21 & 2011 & 03 & 20 & 2010 & 03 & 21\\\\\n\t4 & 0079OHW & 2010-08-21 & 2011-08-20 & Male   &  2 & 2010-08-21 & 1 & Saloon & Black & TOYOTA & ⋯ & 0 & 2010 & 08 & 21 & 2011 & 08 & 20 & 2010 & 08 & 21\\\\\n\t5 & 00BRP63 & 2010-08-29 & 2010-12-31 & Other  & 20 & 2010-08-29 & 3 & Saloon & Black & TOYOTA & ⋯ & 1 & 2010 & 08 & 29 & 2010 & 12 & 31 & 2010 & 08 & 29\\\\\n\t6 & 00D3EF6 & 2010-10-21 & 2011-10-20 & Male   & 37 & 2010-10-21 & 2 & Saloon & Black & TOYOTA & ⋯ & 0 & 2010 & 10 & 21 & 2011 & 10 & 20 & 2010 & 10 & 21\\\\\n\\end{tabular}\n",
            "text/markdown": "\nA data.frame: 6 × 23\n\n| <!--/--> | ID &lt;chr&gt; | Policy.Start.Date &lt;date&gt; | Policy.End.Date &lt;date&gt; | Gender &lt;fct&gt; | Age &lt;int&gt; | First.Transaction.Date &lt;date&gt; | No_Pol &lt;int&gt; | Car_Category &lt;fct&gt; | Subject_Car_Colour &lt;fct&gt; | Subject_Car_Make &lt;fct&gt; | ⋯ ⋯ | target &lt;int&gt; | Policy.Start.Date Year &lt;I&lt;chr&gt;&gt; | Policy.Start.Date Month &lt;I&lt;chr&gt;&gt; | Policy.Start.Date Day &lt;I&lt;chr&gt;&gt; | Policy.End.Date Year &lt;I&lt;chr&gt;&gt; | Policy.End.Date Month &lt;I&lt;chr&gt;&gt; | Policy.End.Date Day &lt;I&lt;chr&gt;&gt; | First.Transaction.Date Year &lt;I&lt;chr&gt;&gt; | First.Transaction.Date Month &lt;I&lt;chr&gt;&gt; | First.Transaction.Date Day &lt;I&lt;chr&gt;&gt; |\n|---|---|---|---|---|---|---|---|---|---|---|---|---|---|---|---|---|---|---|---|---|---|\n| 1 | 0040R73 | 2010-05-14 | 2011-05-13 | Male   | 30 | 2010-05-14 | 1 | Saloon | Black | TOYOTA | ⋯ | 0 | 2010 | 05 | 14 | 2011 | 05 | 13 | 2010 | 05 | 14 |\n| 2 | 0046BNK | 2010-11-29 | 2011-11-28 | Female | 79 | 2010-11-29 | 1 | JEEP   | Grey  | TOYOTA | ⋯ | 1 | 2010 | 11 | 29 | 2011 | 11 | 28 | 2010 | 11 | 29 |\n| 3 | 005QMC3 | 2010-03-21 | 2011-03-20 | Male   | 43 | 2010-03-21 | 1 | Saloon | Red   | TOYOTA | ⋯ | 0 | 2010 | 03 | 21 | 2011 | 03 | 20 | 2010 | 03 | 21 |\n| 4 | 0079OHW | 2010-08-21 | 2011-08-20 | Male   |  2 | 2010-08-21 | 1 | Saloon | Black | TOYOTA | ⋯ | 0 | 2010 | 08 | 21 | 2011 | 08 | 20 | 2010 | 08 | 21 |\n| 5 | 00BRP63 | 2010-08-29 | 2010-12-31 | Other  | 20 | 2010-08-29 | 3 | Saloon | Black | TOYOTA | ⋯ | 1 | 2010 | 08 | 29 | 2010 | 12 | 31 | 2010 | 08 | 29 |\n| 6 | 00D3EF6 | 2010-10-21 | 2011-10-20 | Male   | 37 | 2010-10-21 | 2 | Saloon | Black | TOYOTA | ⋯ | 0 | 2010 | 10 | 21 | 2011 | 10 | 20 | 2010 | 10 | 21 |\n\n",
            "text/html": [
              "<table class=\"dataframe\">\n",
              "<caption>A data.frame: 6 × 23</caption>\n",
              "<thead>\n",
              "\t<tr><th></th><th scope=col>ID</th><th scope=col>Policy.Start.Date</th><th scope=col>Policy.End.Date</th><th scope=col>Gender</th><th scope=col>Age</th><th scope=col>First.Transaction.Date</th><th scope=col>No_Pol</th><th scope=col>Car_Category</th><th scope=col>Subject_Car_Colour</th><th scope=col>Subject_Car_Make</th><th scope=col>⋯</th><th scope=col>target</th><th scope=col>Policy.Start.Date Year</th><th scope=col>Policy.Start.Date Month</th><th scope=col>Policy.Start.Date Day</th><th scope=col>Policy.End.Date Year</th><th scope=col>Policy.End.Date Month</th><th scope=col>Policy.End.Date Day</th><th scope=col>First.Transaction.Date Year</th><th scope=col>First.Transaction.Date Month</th><th scope=col>First.Transaction.Date Day</th></tr>\n",
              "\t<tr><th></th><th scope=col>&lt;chr&gt;</th><th scope=col>&lt;date&gt;</th><th scope=col>&lt;date&gt;</th><th scope=col>&lt;fct&gt;</th><th scope=col>&lt;int&gt;</th><th scope=col>&lt;date&gt;</th><th scope=col>&lt;int&gt;</th><th scope=col>&lt;fct&gt;</th><th scope=col>&lt;fct&gt;</th><th scope=col>&lt;fct&gt;</th><th scope=col>⋯</th><th scope=col>&lt;int&gt;</th><th scope=col>&lt;I&lt;chr&gt;&gt;</th><th scope=col>&lt;I&lt;chr&gt;&gt;</th><th scope=col>&lt;I&lt;chr&gt;&gt;</th><th scope=col>&lt;I&lt;chr&gt;&gt;</th><th scope=col>&lt;I&lt;chr&gt;&gt;</th><th scope=col>&lt;I&lt;chr&gt;&gt;</th><th scope=col>&lt;I&lt;chr&gt;&gt;</th><th scope=col>&lt;I&lt;chr&gt;&gt;</th><th scope=col>&lt;I&lt;chr&gt;&gt;</th></tr>\n",
              "</thead>\n",
              "<tbody>\n",
              "\t<tr><th scope=row>1</th><td>0040R73</td><td>2010-05-14</td><td>2011-05-13</td><td>Male  </td><td>30</td><td>2010-05-14</td><td>1</td><td>Saloon</td><td>Black</td><td>TOYOTA</td><td>⋯</td><td>0</td><td>2010</td><td>05</td><td>14</td><td>2011</td><td>05</td><td>13</td><td>2010</td><td>05</td><td>14</td></tr>\n",
              "\t<tr><th scope=row>2</th><td>0046BNK</td><td>2010-11-29</td><td>2011-11-28</td><td>Female</td><td>79</td><td>2010-11-29</td><td>1</td><td>JEEP  </td><td>Grey </td><td>TOYOTA</td><td>⋯</td><td>1</td><td>2010</td><td>11</td><td>29</td><td>2011</td><td>11</td><td>28</td><td>2010</td><td>11</td><td>29</td></tr>\n",
              "\t<tr><th scope=row>3</th><td>005QMC3</td><td>2010-03-21</td><td>2011-03-20</td><td>Male  </td><td>43</td><td>2010-03-21</td><td>1</td><td>Saloon</td><td>Red  </td><td>TOYOTA</td><td>⋯</td><td>0</td><td>2010</td><td>03</td><td>21</td><td>2011</td><td>03</td><td>20</td><td>2010</td><td>03</td><td>21</td></tr>\n",
              "\t<tr><th scope=row>4</th><td>0079OHW</td><td>2010-08-21</td><td>2011-08-20</td><td>Male  </td><td> 2</td><td>2010-08-21</td><td>1</td><td>Saloon</td><td>Black</td><td>TOYOTA</td><td>⋯</td><td>0</td><td>2010</td><td>08</td><td>21</td><td>2011</td><td>08</td><td>20</td><td>2010</td><td>08</td><td>21</td></tr>\n",
              "\t<tr><th scope=row>5</th><td>00BRP63</td><td>2010-08-29</td><td>2010-12-31</td><td>Other </td><td>20</td><td>2010-08-29</td><td>3</td><td>Saloon</td><td>Black</td><td>TOYOTA</td><td>⋯</td><td>1</td><td>2010</td><td>08</td><td>29</td><td>2010</td><td>12</td><td>31</td><td>2010</td><td>08</td><td>29</td></tr>\n",
              "\t<tr><th scope=row>6</th><td>00D3EF6</td><td>2010-10-21</td><td>2011-10-20</td><td>Male  </td><td>37</td><td>2010-10-21</td><td>2</td><td>Saloon</td><td>Black</td><td>TOYOTA</td><td>⋯</td><td>0</td><td>2010</td><td>10</td><td>21</td><td>2011</td><td>10</td><td>20</td><td>2010</td><td>10</td><td>21</td></tr>\n",
              "</tbody>\n",
              "</table>\n"
            ]
          },
          "metadata": {
            "tags": []
          }
        }
      ]
    },
    {
      "cell_type": "markdown",
      "metadata": {
        "id": "X_5P8n6RgsdR"
      },
      "source": [
        "#### Try different strategies of dealing with categorical variables\r\n",
        "Tips:\r\n",
        " - One hot encoding\r\n",
        " - Label encoding\r\n",
        " - Target encoding\r\n",
        " - Reduce the number of unique values..."
      ]
    },
    {
      "cell_type": "code",
      "metadata": {
        "colab": {
          "base_uri": "https://localhost:8080/",
          "height": 308
        },
        "id": "wdxRMgt-oWq_",
        "outputId": "2c62a5cc-baea-4940-a5a5-651e9804367f"
      },
      "source": [
        "all_data = fastDummies::dummy_cols(all_data, cat_cols)\r\n",
        "all_data = all_data[!sapply(all_data, function(x) class(x) == \"AsIs\")]\r\n",
        "\r\n",
        "head(all_data)"
      ],
      "execution_count": 21,
      "outputs": [
        {
          "output_type": "display_data",
          "data": {
            "text/plain": [
              "  ID      Policy.Start.Date Policy.End.Date Gender Age First.Transaction.Date\n",
              "1 0040R73 2010-05-14        2011-05-13      Male   30  2010-05-14            \n",
              "2 0046BNK 2010-11-29        2011-11-28      Female 79  2010-11-29            \n",
              "3 005QMC3 2010-03-21        2011-03-20      Male   43  2010-03-21            \n",
              "4 0079OHW 2010-08-21        2011-08-20      Male    2  2010-08-21            \n",
              "5 00BRP63 2010-08-29        2010-12-31      Other  20  2010-08-29            \n",
              "6 00D3EF6 2010-10-21        2011-10-20      Male   37  2010-10-21            \n",
              "  No_Pol Car_Category Subject_Car_Colour Subject_Car_Make ⋯ State_Warri-South\n",
              "1 1      Saloon       Black              TOYOTA           ⋯ 0                \n",
              "2 1      JEEP         Grey               TOYOTA           ⋯ 0                \n",
              "3 1      Saloon       Red                TOYOTA           ⋯ 0                \n",
              "4 1      Saloon       Black              TOYOTA           ⋯ 0                \n",
              "5 3      Saloon       Black              TOYOTA           ⋯ 0                \n",
              "6 2      Saloon       Black              TOYOTA           ⋯ 0                \n",
              "  ProductName_Car Classic ProductName_Car Plus ProductName_Car Vintage\n",
              "1 1                       0                    0                      \n",
              "2 1                       0                    0                      \n",
              "3 1                       0                    0                      \n",
              "4 0                       0                    0                      \n",
              "5 0                       0                    0                      \n",
              "6 1                       0                    0                      \n",
              "  ProductName_CarFlex ProductName_CarSafe ProductName_Customized Motor\n",
              "1 0                   0                   0                           \n",
              "2 0                   0                   0                           \n",
              "3 0                   0                   0                           \n",
              "4 0                   1                   0                           \n",
              "5 0                   0                   0                           \n",
              "6 0                   0                   0                           \n",
              "  ProductName_CVTP ProductName_Motor Cycle ProductName_Muuve\n",
              "1 0                0                       0                \n",
              "2 0                0                       0                \n",
              "3 0                0                       0                \n",
              "4 0                0                       0                \n",
              "5 0                0                       1                \n",
              "6 0                0                       0                "
            ],
            "text/latex": "A data.frame: 6 × 546\n\\begin{tabular}{r|lllllllllllllllllllll}\n  & ID & Policy.Start.Date & Policy.End.Date & Gender & Age & First.Transaction.Date & No\\_Pol & Car\\_Category & Subject\\_Car\\_Colour & Subject\\_Car\\_Make & ⋯ & State\\_Warri-South & ProductName\\_Car Classic & ProductName\\_Car Plus & ProductName\\_Car Vintage & ProductName\\_CarFlex & ProductName\\_CarSafe & ProductName\\_Customized Motor & ProductName\\_CVTP & ProductName\\_Motor Cycle & ProductName\\_Muuve\\\\\n  & <chr> & <date> & <date> & <fct> & <int> & <date> & <int> & <fct> & <fct> & <fct> & ⋯ & <int> & <int> & <int> & <int> & <int> & <int> & <int> & <int> & <int> & <int>\\\\\n\\hline\n\t1 & 0040R73 & 2010-05-14 & 2011-05-13 & Male   & 30 & 2010-05-14 & 1 & Saloon & Black & TOYOTA & ⋯ & 0 & 1 & 0 & 0 & 0 & 0 & 0 & 0 & 0 & 0\\\\\n\t2 & 0046BNK & 2010-11-29 & 2011-11-28 & Female & 79 & 2010-11-29 & 1 & JEEP   & Grey  & TOYOTA & ⋯ & 0 & 1 & 0 & 0 & 0 & 0 & 0 & 0 & 0 & 0\\\\\n\t3 & 005QMC3 & 2010-03-21 & 2011-03-20 & Male   & 43 & 2010-03-21 & 1 & Saloon & Red   & TOYOTA & ⋯ & 0 & 1 & 0 & 0 & 0 & 0 & 0 & 0 & 0 & 0\\\\\n\t4 & 0079OHW & 2010-08-21 & 2011-08-20 & Male   &  2 & 2010-08-21 & 1 & Saloon & Black & TOYOTA & ⋯ & 0 & 0 & 0 & 0 & 0 & 1 & 0 & 0 & 0 & 0\\\\\n\t5 & 00BRP63 & 2010-08-29 & 2010-12-31 & Other  & 20 & 2010-08-29 & 3 & Saloon & Black & TOYOTA & ⋯ & 0 & 0 & 0 & 0 & 0 & 0 & 0 & 0 & 0 & 1\\\\\n\t6 & 00D3EF6 & 2010-10-21 & 2011-10-20 & Male   & 37 & 2010-10-21 & 2 & Saloon & Black & TOYOTA & ⋯ & 0 & 1 & 0 & 0 & 0 & 0 & 0 & 0 & 0 & 0\\\\\n\\end{tabular}\n",
            "text/markdown": "\nA data.frame: 6 × 546\n\n| <!--/--> | ID &lt;chr&gt; | Policy.Start.Date &lt;date&gt; | Policy.End.Date &lt;date&gt; | Gender &lt;fct&gt; | Age &lt;int&gt; | First.Transaction.Date &lt;date&gt; | No_Pol &lt;int&gt; | Car_Category &lt;fct&gt; | Subject_Car_Colour &lt;fct&gt; | Subject_Car_Make &lt;fct&gt; | ⋯ ⋯ | State_Warri-South &lt;int&gt; | ProductName_Car Classic &lt;int&gt; | ProductName_Car Plus &lt;int&gt; | ProductName_Car Vintage &lt;int&gt; | ProductName_CarFlex &lt;int&gt; | ProductName_CarSafe &lt;int&gt; | ProductName_Customized Motor &lt;int&gt; | ProductName_CVTP &lt;int&gt; | ProductName_Motor Cycle &lt;int&gt; | ProductName_Muuve &lt;int&gt; |\n|---|---|---|---|---|---|---|---|---|---|---|---|---|---|---|---|---|---|---|---|---|---|\n| 1 | 0040R73 | 2010-05-14 | 2011-05-13 | Male   | 30 | 2010-05-14 | 1 | Saloon | Black | TOYOTA | ⋯ | 0 | 1 | 0 | 0 | 0 | 0 | 0 | 0 | 0 | 0 |\n| 2 | 0046BNK | 2010-11-29 | 2011-11-28 | Female | 79 | 2010-11-29 | 1 | JEEP   | Grey  | TOYOTA | ⋯ | 0 | 1 | 0 | 0 | 0 | 0 | 0 | 0 | 0 | 0 |\n| 3 | 005QMC3 | 2010-03-21 | 2011-03-20 | Male   | 43 | 2010-03-21 | 1 | Saloon | Red   | TOYOTA | ⋯ | 0 | 1 | 0 | 0 | 0 | 0 | 0 | 0 | 0 | 0 |\n| 4 | 0079OHW | 2010-08-21 | 2011-08-20 | Male   |  2 | 2010-08-21 | 1 | Saloon | Black | TOYOTA | ⋯ | 0 | 0 | 0 | 0 | 0 | 1 | 0 | 0 | 0 | 0 |\n| 5 | 00BRP63 | 2010-08-29 | 2010-12-31 | Other  | 20 | 2010-08-29 | 3 | Saloon | Black | TOYOTA | ⋯ | 0 | 0 | 0 | 0 | 0 | 0 | 0 | 0 | 0 | 1 |\n| 6 | 00D3EF6 | 2010-10-21 | 2011-10-20 | Male   | 37 | 2010-10-21 | 2 | Saloon | Black | TOYOTA | ⋯ | 0 | 1 | 0 | 0 | 0 | 0 | 0 | 0 | 0 | 0 |\n\n",
            "text/html": [
              "<table class=\"dataframe\">\n",
              "<caption>A data.frame: 6 × 546</caption>\n",
              "<thead>\n",
              "\t<tr><th></th><th scope=col>ID</th><th scope=col>Policy.Start.Date</th><th scope=col>Policy.End.Date</th><th scope=col>Gender</th><th scope=col>Age</th><th scope=col>First.Transaction.Date</th><th scope=col>No_Pol</th><th scope=col>Car_Category</th><th scope=col>Subject_Car_Colour</th><th scope=col>Subject_Car_Make</th><th scope=col>⋯</th><th scope=col>State_Warri-South</th><th scope=col>ProductName_Car Classic</th><th scope=col>ProductName_Car Plus</th><th scope=col>ProductName_Car Vintage</th><th scope=col>ProductName_CarFlex</th><th scope=col>ProductName_CarSafe</th><th scope=col>ProductName_Customized Motor</th><th scope=col>ProductName_CVTP</th><th scope=col>ProductName_Motor Cycle</th><th scope=col>ProductName_Muuve</th></tr>\n",
              "\t<tr><th></th><th scope=col>&lt;chr&gt;</th><th scope=col>&lt;date&gt;</th><th scope=col>&lt;date&gt;</th><th scope=col>&lt;fct&gt;</th><th scope=col>&lt;int&gt;</th><th scope=col>&lt;date&gt;</th><th scope=col>&lt;int&gt;</th><th scope=col>&lt;fct&gt;</th><th scope=col>&lt;fct&gt;</th><th scope=col>&lt;fct&gt;</th><th scope=col>⋯</th><th scope=col>&lt;int&gt;</th><th scope=col>&lt;int&gt;</th><th scope=col>&lt;int&gt;</th><th scope=col>&lt;int&gt;</th><th scope=col>&lt;int&gt;</th><th scope=col>&lt;int&gt;</th><th scope=col>&lt;int&gt;</th><th scope=col>&lt;int&gt;</th><th scope=col>&lt;int&gt;</th><th scope=col>&lt;int&gt;</th></tr>\n",
              "</thead>\n",
              "<tbody>\n",
              "\t<tr><th scope=row>1</th><td>0040R73</td><td>2010-05-14</td><td>2011-05-13</td><td>Male  </td><td>30</td><td>2010-05-14</td><td>1</td><td>Saloon</td><td>Black</td><td>TOYOTA</td><td>⋯</td><td>0</td><td>1</td><td>0</td><td>0</td><td>0</td><td>0</td><td>0</td><td>0</td><td>0</td><td>0</td></tr>\n",
              "\t<tr><th scope=row>2</th><td>0046BNK</td><td>2010-11-29</td><td>2011-11-28</td><td>Female</td><td>79</td><td>2010-11-29</td><td>1</td><td>JEEP  </td><td>Grey </td><td>TOYOTA</td><td>⋯</td><td>0</td><td>1</td><td>0</td><td>0</td><td>0</td><td>0</td><td>0</td><td>0</td><td>0</td><td>0</td></tr>\n",
              "\t<tr><th scope=row>3</th><td>005QMC3</td><td>2010-03-21</td><td>2011-03-20</td><td>Male  </td><td>43</td><td>2010-03-21</td><td>1</td><td>Saloon</td><td>Red  </td><td>TOYOTA</td><td>⋯</td><td>0</td><td>1</td><td>0</td><td>0</td><td>0</td><td>0</td><td>0</td><td>0</td><td>0</td><td>0</td></tr>\n",
              "\t<tr><th scope=row>4</th><td>0079OHW</td><td>2010-08-21</td><td>2011-08-20</td><td>Male  </td><td> 2</td><td>2010-08-21</td><td>1</td><td>Saloon</td><td>Black</td><td>TOYOTA</td><td>⋯</td><td>0</td><td>0</td><td>0</td><td>0</td><td>0</td><td>1</td><td>0</td><td>0</td><td>0</td><td>0</td></tr>\n",
              "\t<tr><th scope=row>5</th><td>00BRP63</td><td>2010-08-29</td><td>2010-12-31</td><td>Other </td><td>20</td><td>2010-08-29</td><td>3</td><td>Saloon</td><td>Black</td><td>TOYOTA</td><td>⋯</td><td>0</td><td>0</td><td>0</td><td>0</td><td>0</td><td>0</td><td>0</td><td>0</td><td>0</td><td>1</td></tr>\n",
              "\t<tr><th scope=row>6</th><td>00D3EF6</td><td>2010-10-21</td><td>2011-10-20</td><td>Male  </td><td>37</td><td>2010-10-21</td><td>2</td><td>Saloon</td><td>Black</td><td>TOYOTA</td><td>⋯</td><td>0</td><td>1</td><td>0</td><td>0</td><td>0</td><td>0</td><td>0</td><td>0</td><td>0</td><td>0</td></tr>\n",
              "</tbody>\n",
              "</table>\n"
            ]
          },
          "metadata": {
            "tags": []
          }
        }
      ]
    },
    {
      "cell_type": "code",
      "metadata": {
        "colab": {
          "base_uri": "https://localhost:8080/",
          "height": 50
        },
        "id": "OrMuC35jgt6z",
        "outputId": "05fd5281-6846-4fa7-e10c-4b4aa4663275"
      },
      "source": [
        "# Separate train and test data from the combined dataframe\r\n",
        "train_df = all_data[1:ntrain,]\r\n",
        "test_df = all_data[(ntrain+1):dim(all_data)[1],]\r\n",
        "\r\n",
        "# Check the shapes of the split dataset\r\n",
        "dim(train_df)\r\n",
        "dim(test_df)"
      ],
      "execution_count": 22,
      "outputs": [
        {
          "output_type": "display_data",
          "data": {
            "text/plain": [
              "[1] 12079   546"
            ],
            "text/latex": "\\begin{enumerate*}\n\\item 12079\n\\item 546\n\\end{enumerate*}\n",
            "text/markdown": "1. 12079\n2. 546\n\n\n",
            "text/html": [
              "<style>\n",
              ".list-inline {list-style: none; margin:0; padding: 0}\n",
              ".list-inline>li {display: inline-block}\n",
              ".list-inline>li:not(:last-child)::after {content: \"\\00b7\"; padding: 0 .5ex}\n",
              "</style>\n",
              "<ol class=list-inline><li>12079</li><li>546</li></ol>\n"
            ]
          },
          "metadata": {
            "tags": []
          }
        },
        {
          "output_type": "display_data",
          "data": {
            "text/plain": [
              "[1] 5177  546"
            ],
            "text/latex": "\\begin{enumerate*}\n\\item 5177\n\\item 546\n\\end{enumerate*}\n",
            "text/markdown": "1. 5177\n2. 546\n\n\n",
            "text/html": [
              "<style>\n",
              ".list-inline {list-style: none; margin:0; padding: 0}\n",
              ".list-inline>li {display: inline-block}\n",
              ".list-inline>li:not(:last-child)::after {content: \"\\00b7\"; padding: 0 .5ex}\n",
              "</style>\n",
              "<ol class=list-inline><li>5177</li><li>546</li></ol>\n"
            ]
          },
          "metadata": {
            "tags": []
          }
        }
      ]
    },
    {
      "cell_type": "markdown",
      "metadata": {
        "id": "nLk9Hqrqx7e4"
      },
      "source": [
        "### Training and making predictions\r\n",
        "Tips:\r\n",
        "- Is lgbm the best model for this challenge?\r\n",
        "- Parameter tuning\r\n",
        " - Grid search, random search, perhaps bayesian search works better..."
      ]
    },
    {
      "cell_type": "code",
      "metadata": {
        "id": "mjHFm_Myx4cn"
      },
      "source": [
        "# Select main columns to be used in training\r\n",
        "main_cols = names(train_df[, !names(train_df) %in% c(c(\"ID\", \"target\"), date_cols)])\r\n",
        "\r\n",
        "# Set seed for reproducability\r\n",
        "set.seed(2021)\r\n",
        "\r\n",
        "# Split data into train and test sets\r\n",
        "train_index = createDataPartition(train_df$target, p=0.7, list=F)\r\n",
        "data_train = train_df[train_index,]\r\n",
        "data_test = train_df[-train_index,]\r\n",
        "\r\n",
        "X_train = data_train[main_cols]\r\n",
        "y_train = data_train$target\r\n",
        "X_test = data_test[main_cols]\r\n",
        "y_test = data_test$target\r\n",
        "\r\n",
        "train_pool = catboost.load_pool(data = X_train, label = y_train)\r\n",
        "test_pool = catboost.load_pool(data = X_test, label = y_test)"
      ],
      "execution_count": 23,
      "outputs": []
    },
    {
      "cell_type": "code",
      "metadata": {
        "colab": {
          "base_uri": "https://localhost:8080/"
        },
        "id": "iz0XHoNFyAqe",
        "outputId": "22dda099-c450-4ffa-b6c9-9e14b583cd0d"
      },
      "source": [
        "# Train model\r\n",
        "fit_params = list(iterations = 1000,  loss_function = \"Logloss\", verbose = 100)\r\n",
        "model = catboost.train(train_pool, test_pool, params = fit_params)\r\n",
        "\r\n",
        "# Make predictions\r\n",
        "y_pred = catboost.predict(model, test_pool, prediction_type = \"Class\")\r\n",
        "\r\n",
        "# Check the performance of your model\r\n",
        "print(confusionMatrix(as.factor(y_pred), as.factor(data_test$target)))"
      ],
      "execution_count": 25,
      "outputs": [
        {
          "output_type": "stream",
          "text": [
            "Learning rate set to 0.053693\n",
            "0:\tlearn: 0.6370495\ttest: 0.6402018\tbest: 0.6402018 (0)\ttotal: 73.5ms\tremaining: 1m 13s\n",
            "100:\tlearn: 0.2930765\ttest: 0.3053123\tbest: 0.3052829 (99)\ttotal: 2.6s\tremaining: 23.1s\n",
            "200:\tlearn: 0.2820742\ttest: 0.3033631\tbest: 0.3033545 (199)\ttotal: 5.28s\tremaining: 21s\n",
            "300:\tlearn: 0.2721453\ttest: 0.3024892\tbest: 0.3023089 (254)\ttotal: 8s\tremaining: 18.6s\n",
            "400:\tlearn: 0.2636774\ttest: 0.3019327\tbest: 0.3019086 (395)\ttotal: 10.8s\tremaining: 16.1s\n",
            "500:\tlearn: 0.2557869\ttest: 0.3009124\tbest: 0.3008599 (497)\ttotal: 13.7s\tremaining: 13.7s\n",
            "600:\tlearn: 0.2494106\ttest: 0.3003438\tbest: 0.3002026 (585)\ttotal: 16.6s\tremaining: 11s\n",
            "700:\tlearn: 0.2433932\ttest: 0.2999466\tbest: 0.2999017 (661)\ttotal: 19.4s\tremaining: 8.29s\n",
            "800:\tlearn: 0.2376909\ttest: 0.3000406\tbest: 0.2996540 (709)\ttotal: 22.3s\tremaining: 5.54s\n",
            "900:\tlearn: 0.2324276\ttest: 0.3000857\tbest: 0.2996540 (709)\ttotal: 25.2s\tremaining: 2.77s\n",
            "999:\tlearn: 0.2270493\ttest: 0.3000873\tbest: 0.2996540 (709)\ttotal: 28s\tremaining: 0us\n",
            "\n",
            "bestTest = 0.2996539857\n",
            "bestIteration = 709\n",
            "\n",
            "Shrink model to first 710 iterations.\n",
            "Confusion Matrix and Statistics\n",
            "\n",
            "          Reference\n",
            "Prediction    0    1\n",
            "         0 3155  384\n",
            "         1   37   47\n",
            "                                          \n",
            "               Accuracy : 0.8838          \n",
            "                 95% CI : (0.8729, 0.8941)\n",
            "    No Information Rate : 0.881           \n",
            "    P-Value [Acc > NIR] : 0.3147          \n",
            "                                          \n",
            "                  Kappa : 0.1495          \n",
            "                                          \n",
            " Mcnemar's Test P-Value : <2e-16          \n",
            "                                          \n",
            "            Sensitivity : 0.9884          \n",
            "            Specificity : 0.1090          \n",
            "         Pos Pred Value : 0.8915          \n",
            "         Neg Pred Value : 0.5595          \n",
            "             Prevalence : 0.8810          \n",
            "         Detection Rate : 0.8708          \n",
            "   Detection Prevalence : 0.9768          \n",
            "      Balanced Accuracy : 0.5487          \n",
            "                                          \n",
            "       'Positive' Class : 0               \n",
            "                                          \n"
          ],
          "name": "stdout"
        }
      ]
    },
    {
      "cell_type": "markdown",
      "metadata": {
        "id": "ui5nAqSWEvcL"
      },
      "source": [
        "#### [More on F1 Score](https://en.wikipedia.org/wiki/F-score)"
      ]
    },
    {
      "cell_type": "markdown",
      "metadata": {
        "id": "bFBFC3mQBFKU"
      },
      "source": [
        "### Making predictions of the test set and creating a submission file"
      ]
    },
    {
      "cell_type": "code",
      "metadata": {
        "colab": {
          "base_uri": "https://localhost:8080/",
          "height": 377
        },
        "id": "FekBsRY506Qt",
        "outputId": "2650cfbe-d5ed-4946-e19f-e43ab63d3eac"
      },
      "source": [
        "# Make prediction on the test set\r\n",
        "test_df_pool = test_df[main_cols] %>% catboost.load_pool()\r\n",
        "predictions = catboost.predict(model, test_df_pool, prediction_type = \"Class\")\r\n",
        "\r\n",
        "# Create a submission file\r\n",
        "sub_file = setNames(sample,  names(sample))\r\n",
        "sub_file$target = predictions\r\n",
        "\r\n",
        "# Check the distribution of your predictions\r\n",
        "options(repr.plot.width = 7, repr.plot.height = 6)\r\n",
        "ggplot(sub_file, aes(x=target)) +\r\n",
        "  geom_bar() +\r\n",
        "  labs(title = \"Distribution of predicted variable\")"
      ],
      "execution_count": 26,
      "outputs": [
        {
          "output_type": "display_data",
          "data": {
            "image/png": "[encoded data removed]",
            "text/plain": [
              "plot without title"
            ]
          },
          "metadata": {
            "tags": [],
            "image/png": {
              "width": 420,
              "height": 360
            }
          }
        }
      ]
    },
    {
      "cell_type": "code",
      "metadata": {
        "id": "mlTXE6gI06LY"
      },
      "source": [
        "# Create a csv file and upload to zindi \r\n",
        "write.csv(sub_file, 'Baseline.csv', row.names=FALSE)"
      ],
      "execution_count": 27,
      "outputs": []
    },
    {
      "cell_type": "markdown",
      "metadata": {
        "id": "fEPggA20Cg1I"
      },
      "source": [
        "###More Tips\r\n",
        "- Thorough EDA and domain knowledge sourcing\r\n",
        "- Re-group Categorical features \r\n",
        "- More Feature Engineering \r\n",
        "- Dataset balancing - oversampling, undersampling, SMOTE...\r\n",
        "- Ensembling of models \r\n",
        "- Cross-validation: Group folds, Stratified..."
      ]
    },
    {
      "cell_type": "markdown",
      "metadata": {
        "id": "ek_OwQLWCkeb"
      },
      "source": [
        "# ******************* GOOD LUCK!!! ***************************"
      ]
    }
  ]
}