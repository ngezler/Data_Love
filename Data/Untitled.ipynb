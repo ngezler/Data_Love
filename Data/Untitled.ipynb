{
 "cells": [
  {
   "cell_type": "code",
   "execution_count": null,
   "metadata": {},
   "outputs": [
    {
     "name": "stdout",
     "output_type": "stream",
     "text": [
      "Collecting bert-tensorflow\n",
      "\u001b[?25l  Downloading https://files.pythonhosted.org/packages/20/16/0f9376af49c6adcfbaf2470a8f500105a74dd803aa54ac0110af445837b5/bert_tensorflow-1.0.4-py2.py3-none-any.whl (64kB)\n",
      "\u001b[K     |████████████████████████████████| 71kB 242kB/s eta 0:00:01\n",
      "\u001b[?25hRequirement already satisfied: six in /home/ctml/miniconda3/envs/ml/lib/python3.7/site-packages (from bert-tensorflow) (1.15.0)\n",
      "Installing collected packages: bert-tensorflow\n",
      "Successfully installed bert-tensorflow-1.0.4\n",
      "Collecting tokenizers\n",
      "\u001b[?25l  Downloading https://files.pythonhosted.org/packages/35/e7/edf655ae34925aeaefb7b7fcc3dd0887d2a1203ee6b0df4d1170d1a19d4f/tokenizers-0.9.2-cp37-cp37m-manylinux1_x86_64.whl (2.9MB)\n",
      "\u001b[K     |████████████████████████████████| 2.9MB 1.1MB/s eta 0:00:01\n",
      "\u001b[?25hInstalling collected packages: tokenizers\n",
      "Successfully installed tokenizers-0.9.2\n",
      "Collecting transformers\n",
      "\u001b[?25l  Downloading https://files.pythonhosted.org/packages/19/22/aff234f4a841f8999e68a7a94bdd4b60b4cebcfeca5d67d61cd08c9179de/transformers-3.3.1-py3-none-any.whl (1.1MB)\n",
      "\u001b[K     |████████████████████████████████| 1.1MB 419kB/s eta 0:00:01\n",
      "\u001b[?25hCollecting tokenizers==0.8.1.rc2\n",
      "\u001b[?25l  Downloading https://files.pythonhosted.org/packages/75/26/c02ba92ecb8b780bdae4a862d351433c2912fe49469dac7f87a5c85ccca6/tokenizers-0.8.1rc2-cp37-cp37m-manylinux1_x86_64.whl (3.0MB)\n",
      "\u001b[K     |████████████████████████████████| 3.0MB 1.1MB/s eta 0:00:01\n",
      "\u001b[?25hRequirement already satisfied: requests in /home/ctml/miniconda3/envs/ml/lib/python3.7/site-packages (from transformers) (2.24.0)\n",
      "Requirement already satisfied: numpy in /home/ctml/miniconda3/envs/ml/lib/python3.7/site-packages (from transformers) (1.17.4)\n",
      "Requirement already satisfied: tqdm>=4.27 in /home/ctml/miniconda3/envs/ml/lib/python3.7/site-packages (from transformers) (4.41.1)\n",
      "Collecting filelock\n",
      "  Downloading https://files.pythonhosted.org/packages/93/83/71a2ee6158bb9f39a90c0dea1637f81d5eef866e188e1971a1b1ab01a35a/filelock-3.0.12-py3-none-any.whl\n",
      "Collecting sentencepiece!=0.1.92\n",
      "\u001b[?25l  Downloading https://files.pythonhosted.org/packages/f2/e2/813dff3d72df2f49554204e7e5f73a3dc0f0eb1e3958a4cad3ef3fb278b7/sentencepiece-0.1.91-cp37-cp37m-manylinux1_x86_64.whl (1.1MB)\n",
      "\u001b[K     |████████████████████████████████| 1.1MB 641kB/s eta 0:00:01\n",
      "\u001b[?25hRequirement already satisfied: packaging in /home/ctml/miniconda3/envs/ml/lib/python3.7/site-packages (from transformers) (20.4)\n",
      "Collecting regex!=2019.12.17\n",
      "\u001b[?25l  Downloading https://files.pythonhosted.org/packages/cf/50/f8d272d027f18ce74abe814488066aba4f512120b075e2ad4e34b4cb190f/regex-2020.10.15-cp37-cp37m-manylinux2010_x86_64.whl (662kB)\n",
      "\u001b[K     |████████████████████████████████| 665kB 1.4MB/s eta 0:00:01\n",
      "\u001b[?25hCollecting sacremoses\n",
      "\u001b[?25l  Downloading https://files.pythonhosted.org/packages/7d/34/09d19aff26edcc8eb2a01bed8e98f13a1537005d31e95233fd48216eed10/sacremoses-0.0.43.tar.gz (883kB)\n",
      "\u001b[K     |████████████████████████████████| 890kB 1.5MB/s eta 0:00:01\n",
      "\u001b[?25hRequirement already satisfied: certifi>=2017.4.17 in /home/ctml/miniconda3/envs/ml/lib/python3.7/site-packages (from requests->transformers) (2020.6.20)\n",
      "Requirement already satisfied: chardet<4,>=3.0.2 in /home/ctml/miniconda3/envs/ml/lib/python3.7/site-packages (from requests->transformers) (3.0.4)\n",
      "Requirement already satisfied: urllib3!=1.25.0,!=1.25.1,<1.26,>=1.21.1 in /home/ctml/miniconda3/envs/ml/lib/python3.7/site-packages (from requests->transformers) (1.25.10)\n",
      "Requirement already satisfied: idna<3,>=2.5 in /home/ctml/miniconda3/envs/ml/lib/python3.7/site-packages (from requests->transformers) (2.10)\n",
      "Requirement already satisfied: six in /home/ctml/miniconda3/envs/ml/lib/python3.7/site-packages (from packaging->transformers) (1.15.0)\n",
      "Requirement already satisfied: pyparsing>=2.0.2 in /home/ctml/miniconda3/envs/ml/lib/python3.7/site-packages (from packaging->transformers) (2.4.7)\n",
      "Requirement already satisfied: click in /home/ctml/miniconda3/envs/ml/lib/python3.7/site-packages (from sacremoses->transformers) (7.1.2)\n",
      "Requirement already satisfied: joblib in /home/ctml/miniconda3/envs/ml/lib/python3.7/site-packages (from sacremoses->transformers) (0.14.1)\n",
      "Building wheels for collected packages: sacremoses\n",
      "  Building wheel for sacremoses (setup.py) ... \u001b[?25ldone\n",
      "\u001b[?25h  Created wheel for sacremoses: filename=sacremoses-0.0.43-cp37-none-any.whl size=893261 sha256=7eedf074aea6b266fa6e0ed809494ff70ba28663f4013ceb053354243eda7eea\n",
      "  Stored in directory: /home/ctml/.cache/pip/wheels/29/3c/fd/7ce5c3f0666dab31a50123635e6fb5e19ceb42ce38d4e58f45\n",
      "Successfully built sacremoses\n",
      "Installing collected packages: tokenizers, filelock, sentencepiece, regex, sacremoses, transformers\n",
      "  Found existing installation: tokenizers 0.9.2\n",
      "    Uninstalling tokenizers-0.9.2:\n",
      "      Successfully uninstalled tokenizers-0.9.2\n",
      "Successfully installed filelock-3.0.12 regex-2020.10.15 sacremoses-0.0.43 sentencepiece-0.1.91 tokenizers-0.8.1rc2 transformers-3.3.1\n",
      "Collecting tensorflow\n",
      "\u001b[?25l  Downloading https://files.pythonhosted.org/packages/eb/18/374af421dfbe74379a458e58ab40cf46b35c3206ce8e183e28c1c627494d/tensorflow-2.3.1-cp37-cp37m-manylinux2010_x86_64.whl (320.4MB)\n",
      "\u001b[K     |███████████████▎                | 152.6MB 405kB/s eta 0:06:54     |██████                          | 59.9MB 590kB/s eta 0:07:22     |██████▌                         | 64.8MB 659kB/s eta 0:06:28     |█████████▏                      | 91.6MB 1.3MB/s eta 0:02:59     |███████████                     | 110.6MB 645kB/s eta 0:05:26     |████████████▉                   | 128.6MB 856kB/s eta 0:03:44"
     ]
    }
   ],
   "source": [
    "!pip install bert-tensorflow\n",
    "!pip install tokenizers\n",
    "!pip install transformers\n",
    "!pip install --upgrade tensorflow\n",
    "!pip install chart_studio\n",
    "!pip install textstat\n",
    "# add > /dev/null to avoid long ouput\n",
    "!pip install --upgrade pip > /dev/null\n",
    "!pip install --upgrade scikit-learn > /dev/null\n",
    "!pip install -U imbalanced-learn==0.5 > /dev/null\n",
    "!pip install comet_ml >  /dev/null\n",
    "!pip install tokenizers >  /dev/null\n",
    "!pip install transformers >  /dev/null\n",
    "# check version number\n",
    "from comet_ml import Experiment\n",
    "import warnings\n",
    "warnings.filterwarnings('ignore')\n",
    "import imblearn\n",
    "\n",
    "print(imblearn.__version__)\n",
    "print('Finished installing')"
   ]
  },
  {
   "cell_type": "code",
   "execution_count": null,
   "metadata": {},
   "outputs": [],
   "source": []
  }
 ],
 "metadata": {
  "kernelspec": {
   "display_name": "Python 3",
   "language": "python",
   "name": "python3"
  },
  "language_info": {
   "codemirror_mode": {
    "name": "ipython",
    "version": 3
   },
   "file_extension": ".py",
   "mimetype": "text/x-python",
   "name": "python",
   "nbconvert_exporter": "python",
   "pygments_lexer": "ipython3",
   "version": "3.7.6"
  }
 },
 "nbformat": 4,
 "nbformat_minor": 4
}
